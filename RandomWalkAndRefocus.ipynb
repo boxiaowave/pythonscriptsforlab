{
 "cells": [
  {
   "cell_type": "code",
   "execution_count": 3,
   "metadata": {
    "collapsed": true
   },
   "outputs": [],
   "source": [
    "import numpy as np\n",
    "from scipy.special import comb, perm\n",
    "from itertools import permutations,accumulate,combinations\n",
    "import matplotlib.pyplot as plt\n",
    "import random\n",
    "import qutip\n",
    "from multiprocessing import Pool\n",
    "%matplotlib inline"
   ]
  },
  {
   "cell_type": "code",
   "execution_count": 54,
   "metadata": {},
   "outputs": [
    {
     "name": "stdout",
     "output_type": "stream",
     "text": [
      "[ 20   0   0  -4   0  -4  -4   0   0  -4  -4   0  -4   0   0   4   0  -4\n",
      "  -4   0  -4   0   0   4  -4   0   0   4   0   4   4   0   0  -4  -4   0\n",
      "  -4   0   0   4  -4   0   0   4   0   4   4   0  -4   0   0   4   0   4\n",
      "   4   0   0   4   4   0   4   0   0 -20]\n",
      "CPU times: user 12.4 ms, sys: 6.89 ms, total: 19.3 ms\n",
      "Wall time: 21.5 ms\n"
     ]
    }
   ],
   "source": [
    "%%time\n",
    "\n",
    "N=6\n",
    "state1=[[1,1]]*int(N/2)\n",
    "# print(state1)\n",
    "state2=[[1,-1]]*int(N/2)\n",
    "state2.extend(state1)\n",
    "\n",
    "def dirproduct(s):\n",
    "    p=1\n",
    "    for state in s:\n",
    "        p=np.kron(p,state)\n",
    "    return p\n",
    "\n",
    "\n",
    "me=np.unique(list(permutations(state2)),axis=0)\n",
    "finalstate=0\n",
    "for s in me:\n",
    "    p=1\n",
    "    for state in s:\n",
    "        p=np.kron(p,state)\n",
    "    finalstate+=p\n",
    "print(finalstate)\n",
    "\n",
    "\n",
    "# operator=np.array([[1,1],[1,-1]])\n",
    "# whoper=1\n",
    "# for i in range(N):\n",
    "#     whoper=np.kron(whoper,operator)\n",
    "\n",
    "# transferstate=np.dot(whoper,finalstate)\n",
    "# transferstatepro=transferstate**2/sum(transferstate**2)\n",
    "finalstatepro=finalstate**2/np.sum(finalstate**2)"
   ]
  },
  {
   "cell_type": "code",
   "execution_count": 53,
   "metadata": {},
   "outputs": [
    {
     "name": "stdout",
     "output_type": "stream",
     "text": [
      "[ 20   0   0  -4   0  -4  -4   0   0  -4  -4   0  -4   0   0   4   0  -4\n",
      "  -4   0  -4   0   0   4  -4   0   0   4   0   4   4   0   0  -4  -4   0\n",
      "  -4   0   0   4  -4   0   0   4   0   4   4   0  -4   0   0   4   0   4\n",
      "   4   0   0   4   4   0   4   0   0 -20]\n",
      "[ 0.3125  0.      0.      0.0125  0.      0.0125  0.0125  0.      0.\n",
      "  0.0125  0.0125  0.      0.0125  0.      0.      0.0125  0.      0.0125\n",
      "  0.0125  0.      0.0125  0.      0.      0.0125  0.0125  0.      0.\n",
      "  0.0125  0.      0.0125  0.0125  0.      0.      0.0125  0.0125  0.\n",
      "  0.0125  0.      0.      0.0125  0.0125  0.      0.      0.0125  0.\n",
      "  0.0125  0.0125  0.      0.0125  0.      0.      0.0125  0.      0.0125\n",
      "  0.0125  0.      0.      0.0125  0.0125  0.      0.0125  0.      0.\n",
      "  0.3125]\n",
      "CPU times: user 104 ms, sys: 267 ms, total: 371 ms\n",
      "Wall time: 405 ms\n"
     ]
    }
   ],
   "source": [
    "%%time\n",
    "#result=[]\n",
    "\n",
    "N=6\n",
    "state1=[[1,1]]*int(N/2)\n",
    "# print(state1)\n",
    "state2=[[1,-1]]*int(N/2)\n",
    "state2.extend(state1)\n",
    "me=np.unique(list(permutations(state2)),axis=0)\n",
    "\n",
    "def dirproduct(s):\n",
    "    p=1\n",
    "    for state in s:\n",
    "        p=np.kron(p,state)\n",
    "    return p\n",
    "\n",
    "pool = Pool(processes=20)\n",
    "\n",
    "finalstate=0\n",
    "res = pool.map(dirproduct, me)\n",
    "# res.wait()\n",
    "# if res.ready():  # 进程函数是否已经启动了\n",
    "#     if res.successful():  # 进程函数是否执行成功\n",
    "#         for state in res.get():\n",
    "#             finalstate+=state# 进程函数返回值\n",
    "            \n",
    "for state in res:\n",
    "        finalstate+=state\n",
    "# finalstate=0\n",
    "# for s1 in res:\n",
    "#     finalstate+=s1.get()\n",
    "\n",
    "print(finalstate)\n",
    "finalstatepro=finalstate**2/np.sum(finalstate**2)\n",
    "print(finalstatepro)"
   ]
  },
  {
   "cell_type": "code",
   "execution_count": 48,
   "metadata": {},
   "outputs": [
    {
     "name": "stdout",
     "output_type": "stream",
     "text": [
      "[-3. -2. -1.  0.  1.  2.  3.]\n",
      "[0.3125, 0.0, 0.18750000000000006, 0.0, 0.18750000000000006, 0.0, 0.3125]\n",
      "CPU times: user 103 ms, sys: 161 ms, total: 264 ms\n",
      "Wall time: 394 ms\n"
     ]
    },
    {
     "data": {
      "image/png": "[encoded data removed]",
      "text/plain": [
       "<Figure size 432x288 with 1 Axes>"
      ]
     },
     "metadata": {},
     "output_type": "display_data"
    }
   ],
   "source": [
    "%%time\n",
    "st=[]\n",
    "for i in range(2**N):\n",
    "    t=np.array(list(str(bin(2**N-1-i))[2:]),dtype='int')\n",
    "    st.append(np.sum(t)-N/2)\n",
    "\n",
    "stuni=np.unique(st)\n",
    "print(stuni)\n",
    "prop=[]\n",
    "for Jz in stuni:\n",
    "    prop.append(np.sum(finalstatepro[st==Jz]))\n",
    "\n",
    "print(prop)\n",
    "plt.grid(True)\n",
    "plt.scatter(stuni,prop)"
   ]
  },
  {
   "cell_type": "code",
   "execution_count": 21,
   "metadata": {},
   "outputs": [
    {
     "data": {
      "text/plain": [
       "[<matplotlib.lines.Line2D at 0x151600c128>]"
      ]
     },
     "execution_count": 21,
     "metadata": {},
     "output_type": "execute_result"
    },
    {
     "data": {
      "image/png": "[encoded data removed]",
      "text/plain": [
       "<Figure size 432x288 with 1 Axes>"
      ]
     },
     "metadata": {},
     "output_type": "display_data"
    }
   ],
   "source": [
    "i=np.linspace(-20,20,41)\n",
    "a=1\n",
    "plt.plot(i,np.exp(-(i*a-0)**2/(2*(10*a)**2)))"
   ]
  },
  {
   "cell_type": "code",
   "execution_count": 43,
   "metadata": {},
   "outputs": [],
   "source": [
    "L=50\n",
    "sites=np.linspace(-L,L,2*L+1)\n",
    "sigma0=3\n",
    "initialstate=np.zeros(2*L+1)#np.exp(-(sites-0)**2/(2*sigma0**2))\n",
    "#initialstate.put(L-np.arange(-10,11),1)\n",
    "initialstate.put(50,1)\n",
    "initialstate=initialstate/np.sqrt(np.sum(initialstate**2))\n",
    "initialstate=qutip.Qobj(initialstate)\n",
    "#print(initialstate)"
   ]
  },
  {
   "cell_type": "code",
   "execution_count": 57,
   "metadata": {},
   "outputs": [],
   "source": [
    "V=np.diag(0.5*(sites))\n",
    "#V=np.diag(1*(sites))\n",
    "H=-np.eye(2*L+1,k=1)-np.eye(2*L+1,k=-1)+V\n",
    "H=qutip.Qobj(H)"
   ]
  },
  {
   "cell_type": "code",
   "execution_count": 58,
   "metadata": {},
   "outputs": [],
   "source": [
    "T=30\n",
    "tlist=np.linspace(0,T,1000)\n",
    "x=qutip.mesolve(H, initialstate, tlist, [],options=qutip.Options(nsteps=10000))"
   ]
  },
  {
   "cell_type": "code",
   "execution_count": 59,
   "metadata": {},
   "outputs": [
    {
     "name": "stdout",
     "output_type": "stream",
     "text": [
      "(1000, 101)\n"
     ]
    },
    {
     "data": {
      "text/plain": [
       "<matplotlib.colorbar.Colorbar at 0x1a3607d860>"
      ]
     },
     "execution_count": 59,
     "metadata": {},
     "output_type": "execute_result"
    },
    {
     "data": {
      "image/png": "[encoded data removed]",
      "text/plain": [
       "<Figure size 1440x720 with 2 Axes>"
      ]
     },
     "metadata": {},
     "output_type": "display_data"
    }
   ],
   "source": [
    "st=x.states\n",
    "picd=[]\n",
    "for everystate in st:\n",
    "    s=np.abs(everystate.full())**2\n",
    "    picd.append(s.reshape((2*L+1,)))\n",
    "picd=np.array(picd)\n",
    "print(picd.shape)\n",
    "plt.figure(figsize=(20,10))\n",
    "plt.xticks(np.linspace(0.5,1000.5,6),[0,1*T/5,2*T/5,3*T/5,4*T/5,T])\n",
    "plt.yticks(np.linspace(0.5,2*L+0.5,5),[-L,'',0,'',L])\n",
    "plt.pcolor(picd.transpose()[40:61,:])\n",
    "plt.colorbar()"
   ]
  },
  {
   "cell_type": "code",
   "execution_count": 62,
   "metadata": {},
   "outputs": [
    {
     "data": {
      "text/plain": [
       "<matplotlib.collections.PathCollection at 0x1a386a4d68>"
      ]
     },
     "execution_count": 62,
     "metadata": {},
     "output_type": "execute_result"
    },
    {
     "data": {
      "image/png": "[encoded data removed]",
      "text/plain": [
       "<Figure size 1440x720 with 1 Axes>"
      ]
     },
     "metadata": {},
     "output_type": "display_data"
    }
   ],
   "source": [
    "plt.figure(figsize=(20,10))\n",
    "plt.grid(True)\n",
    "plt.scatter(sites,picd.transpose()[:,300])\n",
    "plt.scatter(sites,picd.transpose()[:,100])"
   ]
  },
  {
   "cell_type": "code",
   "execution_count": 50,
   "metadata": {},
   "outputs": [
    {
     "data": {
      "text/plain": [
       "array([[ 2.5,  0. ,  0. ,  0. ,  0. ,  0. ,  0. ,  0. ,  0. ,  0. ,  0. ],\n",
       "       [ 0. ,  1.6,  0. ,  0. ,  0. ,  0. ,  0. ,  0. ,  0. ,  0. ,  0. ],\n",
       "       [ 0. ,  0. ,  0.9,  0. ,  0. ,  0. ,  0. ,  0. ,  0. ,  0. ,  0. ],\n",
       "       [ 0. ,  0. ,  0. ,  0.4,  0. ,  0. ,  0. ,  0. ,  0. ,  0. ,  0. ],\n",
       "       [ 0. ,  0. ,  0. ,  0. ,  0.1,  0. ,  0. ,  0. ,  0. ,  0. ,  0. ],\n",
       "       [ 0. ,  0. ,  0. ,  0. ,  0. ,  0. ,  0. ,  0. ,  0. ,  0. ,  0. ],\n",
       "       [ 0. ,  0. ,  0. ,  0. ,  0. ,  0. ,  0.1,  0. ,  0. ,  0. ,  0. ],\n",
       "       [ 0. ,  0. ,  0. ,  0. ,  0. ,  0. ,  0. ,  0.4,  0. ,  0. ,  0. ],\n",
       "       [ 0. ,  0. ,  0. ,  0. ,  0. ,  0. ,  0. ,  0. ,  0.9,  0. ,  0. ],\n",
       "       [ 0. ,  0. ,  0. ,  0. ,  0. ,  0. ,  0. ,  0. ,  0. ,  1.6,  0. ],\n",
       "       [ 0. ,  0. ,  0. ,  0. ,  0. ,  0. ,  0. ,  0. ,  0. ,  0. ,  2.5]])"
      ]
     },
     "execution_count": 50,
     "metadata": {},
     "output_type": "execute_result"
    }
   ],
   "source": [
    "np.diag(0.1*(sites)**2)"
   ]
  },
  {
   "cell_type": "code",
   "execution_count": 110,
   "metadata": {},
   "outputs": [
    {
     "data": {
      "text/plain": [
       "array([   0.,   25.,   50.,   75.,  100.])"
      ]
     },
     "execution_count": 110,
     "metadata": {},
     "output_type": "execute_result"
    }
   ],
   "source": [
    "np.linspace(0,100,5)"
   ]
  },
  {
   "cell_type": "code",
   "execution_count": 150,
   "metadata": {},
   "outputs": [
    {
     "data": {
      "text/plain": [
       "array([ 1.,  1.,  1.,  1.,  1.,  1.,  1.,  1.,  1.,  1.])"
      ]
     },
     "execution_count": 150,
     "metadata": {},
     "output_type": "execute_result"
    }
   ],
   "source": [
    "np.ones(10)"
   ]
  },
  {
   "cell_type": "code",
   "execution_count": 212,
   "metadata": {},
   "outputs": [],
   "source": [
    "s=np.zeros(2*L+1)"
   ]
  },
  {
   "cell_type": "code",
   "execution_count": 213,
   "metadata": {
    "collapsed": true
   },
   "outputs": [],
   "source": [
    "s.put(L+np.arange(-3,4), 1)"
   ]
  },
  {
   "cell_type": "code",
   "execution_count": 214,
   "metadata": {},
   "outputs": [
    {
     "data": {
      "text/plain": [
       "array([ 0.,  0.,  0.,  0.,  0.,  0.,  0.,  1.,  1.,  1.,  1.,  1.,  1.,\n",
       "        1.,  0.,  0.,  0.,  0.,  0.,  0.,  0.])"
      ]
     },
     "execution_count": 214,
     "metadata": {},
     "output_type": "execute_result"
    }
   ],
   "source": [
    "s"
   ]
  },
  {
   "cell_type": "code",
   "execution_count": 210,
   "metadata": {},
   "outputs": [
    {
     "data": {
      "text/plain": [
       "array([-3, -2, -1,  0,  1,  2])"
      ]
     },
     "execution_count": 210,
     "metadata": {},
     "output_type": "execute_result"
    }
   ],
   "source": [
    "np.arange(-3,3)"
   ]
  },
  {
   "cell_type": "code",
   "execution_count": 211,
   "metadata": {},
   "outputs": [
    {
     "data": {
      "text/plain": [
       "array([ 7,  8,  9, 10, 11, 12, 13])"
      ]
     },
     "execution_count": 211,
     "metadata": {},
     "output_type": "execute_result"
    }
   ],
   "source": [
    "L+np.arange(-3,4)"
   ]
  },
  {
   "cell_type": "code",
   "execution_count": 1,
   "metadata": {},
   "outputs": [
    {
     "data": {
      "text/plain": [
       "0.21939108490523163"
      ]
     },
     "execution_count": 1,
     "metadata": {},
     "output_type": "execute_result"
    }
   ],
   "source": [
    "(1+0.2/12)**12-1"
   ]
  },
  {
   "cell_type": "code",
   "execution_count": null,
   "metadata": {},
   "outputs": [],
   "source": []
  }
 ],
 "metadata": {
  "anaconda-cloud": {},
  "kernelspec": {
   "display_name": "Python 3",
   "language": "python",
   "name": "python3"
  },
  "language_info": {
   "codemirror_mode": {
    "name": "ipython",
    "version": 3
   },
   "file_extension": ".py",
   "mimetype": "text/x-python",
   "name": "python",
   "nbconvert_exporter": "python",
   "pygments_lexer": "ipython3",
   "version": "3.6.4"
  }
 },
 "nbformat": 4,
 "nbformat_minor": 1
}
