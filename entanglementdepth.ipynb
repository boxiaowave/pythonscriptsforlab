{
 "cells": [
  {
   "cell_type": "code",
   "execution_count": 112,
   "metadata": {},
   "outputs": [],
   "source": [
    "import qutip\n",
    "import numpy as np\n",
    "import pandas as pd\n",
    "import time\n",
    "import matplotlib.pyplot as plt\n",
    "from jupyterthemes import jtplot\n",
    "%matplotlib inline\n",
    "jtplot.style(theme='grade3',ticks=True, grid=True, figsize=(12, 7),context='poster',fscale=1.5, spines=True, gridlines='--')"
   ]
  },
  {
   "cell_type": "code",
   "execution_count": 113,
   "metadata": {},
   "outputs": [],
   "source": [
    "N=10800\n",
    "\n",
    "def caculaJeff(K):\n",
    "    start = time.clock()\n",
    "    print('Current K:%d'%K)\n",
    "    J=int(K/2)\n",
    "    Jplus=np.eye(2*J+1,k=1)\n",
    "    Jmius=np.eye(2*J+1,k=-1)\n",
    "    for i in range(2*J):\n",
    "        Jplus[i][i+1]=np.sqrt((J+(J-i)+1)*(J-(J-i)))\n",
    "\n",
    "    for i in range(2*J):\n",
    "        Jmius[i+1][i]=np.sqrt((J-(J-i-1)+1)*(J+(J-i-1)))\n",
    "\n",
    "    Jx=(Jplus+Jmius)/2\n",
    "    Jy=(Jplus-Jmius)/2j\n",
    "    Jz=np.eye(2*J+1)*np.linspace(J,-J,2*J+1)\n",
    "\n",
    "    Jx=qutip.Qobj(Jx)\n",
    "    Jy=qutip.Qobj(Jy)\n",
    "    Jz=qutip.Qobj(Jz)\n",
    "\n",
    "\n",
    "    def grstate(labm):\n",
    "        hf=Jz**2-labm*Jx\n",
    "        return hf.eigenstates()[1][0]\n",
    "\n",
    "    def deltaJz(state,N,k):\n",
    "        #print(hf(labma))\n",
    "        #print(state)\n",
    "        return N/k*(qutip.expect(Jz**2,state)-qutip.expect(Jz,state)**2)/np.sqrt(N/2*(N/2-1))  \n",
    "\n",
    "    def Jeff(state,N,k):\n",
    "        #print(state)\n",
    "        h1=qutip.expect(Jx**2+Jy**2,state)\n",
    "        #print(h1)\n",
    "        h2=qutip.expect(Jx,state)**2+qutip.expect(Jy,state)**2\n",
    "        #print(h2)\n",
    "        h3=qutip.expect(Jz**2,state)\n",
    "        #print(h3)\n",
    "        return N/k*h1/(N/2*(N/2-1))+N/k*(N/k-1)*h2/(N/2*(N/2-1))+N/k*h3/(N/2*(N/2-1))\n",
    "        \n",
    "    DeltaJz=[]\n",
    "    Je=[]\n",
    "    for la in np.logspace(-1.8,1,60):\n",
    "        state=grstate(la)\n",
    "        DeltaJz.append(deltaJz(state,N,K))\n",
    "        Je.append(Jeff(state,N,K))\n",
    "    elapsed = (time.clock() - start)\n",
    "    print('Time used %',elapsed)\n",
    "    return DeltaJz,Je"
   ]
  },
  {
   "cell_type": "code",
   "execution_count": null,
   "metadata": {},
   "outputs": [
    {
     "name": "stdout",
     "output_type": "stream",
     "text": [
      "Current K:100\n",
      "Time used % 6.276172999999972\n",
      "Current K:200\n"
     ]
    },
    {
     "name": "stderr",
     "output_type": "stream",
     "text": [
      "/Users/boxiao/anaconda/envs/python3/lib/python3.6/site-packages/numpy/core/numeric.py:531: ComplexWarning: Casting complex values to real discards the imaginary part\n",
      "  return array(a, dtype, copy=False, order=order)\n"
     ]
    },
    {
     "name": "stdout",
     "output_type": "stream",
     "text": [
      "Time used % 14.089477999999872\n",
      "Current K:450\n",
      "Time used % 54.37072899999998\n",
      "Current K:900\n",
      "Time used % 301.76366200000007\n",
      "Current K:1800\n"
     ]
    }
   ],
   "source": [
    "plt.figure(figsize=(8.5*1.5,3.6*1.5))\n",
    "plt.xlim((0.9,1))\n",
    "plt.ylim((0.0,0.05))\n",
    "plt.xlabel('$<J^2_{eff}/Jmax^2>$')\n",
    "plt.ylabel('$(\\Delta J_{z})^2/Jmax$')\n",
    "\n",
    "DeltaJzdic={}\n",
    "Jedic={}\n",
    "for k in [100,200,450,900,1800]:\n",
    "    DeltaJzdic[str(k)],Jedic[str(k)]=caculaJeff(k)\n",
    "    plt.plot(Jedic[str(k)],DeltaJzdic[str(k)],'-.',label='Depth=%d'%k)"
   ]
  },
  {
   "cell_type": "code",
   "execution_count": null,
   "metadata": {
    "collapsed": true
   },
   "outputs": [],
   "source": []
  }
 ],
 "metadata": {
  "anaconda-cloud": {},
  "kernelspec": {
   "display_name": "Python [python3]",
   "language": "python",
   "name": "Python [python3]"
  },
  "language_info": {
   "codemirror_mode": {
    "name": "ipython",
    "version": 3
   },
   "file_extension": ".py",
   "mimetype": "text/x-python",
   "name": "python",
   "nbconvert_exporter": "python",
   "pygments_lexer": "ipython3",
   "version": "3.6.5"
  }
 },
 "nbformat": 4,
 "nbformat_minor": 1
}
