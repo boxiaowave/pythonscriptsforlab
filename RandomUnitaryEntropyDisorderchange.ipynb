{
 "cells": [
  {
   "cell_type": "code",
   "execution_count": 1,
   "metadata": {
    "collapsed": true
   },
   "outputs": [],
   "source": [
    "from itertools import permutations\n",
    "import pandas as pd\n",
    "import numpy as np\n",
    "import qutip\n",
    "import matplotlib.pyplot as plt\n",
    "import seaborn\n",
    "import time\n",
    "%matplotlib inline"
   ]
  },
  {
   "cell_type": "code",
   "execution_count": 2,
   "metadata": {
    "collapsed": true
   },
   "outputs": [],
   "source": [
    "initialstate=[1,0,1,0,1,0,1,0]\n",
    "b=list(permutations(initialstate))\n",
    "b=list(set(b))\n",
    "\n",
    "def listtostr(l):\n",
    "    s=''\n",
    "    for i in l:\n",
    "        s=s+str(i)\n",
    "    return s\n",
    "\n",
    "def strlist(b):\n",
    "    index = []\n",
    "    for li in b:\n",
    "        index.append(listtostr(li))\n",
    "    return index\n",
    "\n",
    "def find_rel_sta(a):\n",
    "    rel_sta=[]\n",
    "    tm=len(a)-1\n",
    "    a=[int(x) for x in a]\n",
    "    for i in range(len(a)-1):\n",
    "        if a[i]!=a[i+1]:\n",
    "            sta = a[:]\n",
    "            tm = tm-2\n",
    "            sta[i],sta[i+1]=sta[i+1],sta[i]\n",
    "            rel_sta.append(sta)\n",
    "    return rel_sta,tm\n",
    "\n",
    "index = strlist(b)\n",
    "dim = len(index)\n",
    "initialstateindex = index.index(listtostr(initialstate))"
   ]
  },
  {
   "cell_type": "code",
   "execution_count": 3,
   "metadata": {
    "collapsed": true
   },
   "outputs": [],
   "source": [
    "s=pd.DataFrame(np.zeros((dim,dim)),index=index,columns=index)"
   ]
  },
  {
   "cell_type": "code",
   "execution_count": 4,
   "metadata": {
    "collapsed": true
   },
   "outputs": [],
   "source": [
    "for i in range(dim):\n",
    "    s[index[i]][strlist(find_rel_sta(index[i])[0])]=0.5\n",
    "    s.iloc[i][i]=0.25*find_rel_sta(index[i])[1]"
   ]
  },
  {
   "cell_type": "code",
   "execution_count": 5,
   "metadata": {
    "collapsed": false
   },
   "outputs": [
    {
     "name": "stdout",
     "output_type": "stream",
     "text": [
      "Quantum object: dims = [[70], [70]], shape = (70, 70), type = oper, isherm = True\n",
      "Qobj data =\n",
      "[[-3.  0.  0. ...,  0.  0.  0.]\n",
      " [ 0.  1.  0. ...,  0.  0.  0.]\n",
      " [ 0.  0. -1. ...,  0.  2.  0.]\n",
      " ..., \n",
      " [ 0.  0.  0. ..., -1.  0.  0.]\n",
      " [ 0.  0.  2. ...,  0. -5.  0.]\n",
      " [ 0.  0.  0. ...,  0.  0.  1.]]\n"
     ]
    }
   ],
   "source": [
    "Hamiltonian=4*qutip.Qobj(s.as_matrix())\n",
    "eigsta=Hamiltonian.eigenstates()[1]\n",
    "eigen=Hamiltonian.eigenstates()[0]\n",
    "print Hamiltonian"
   ]
  },
  {
   "cell_type": "code",
   "execution_count": 6,
   "metadata": {
    "collapsed": true
   },
   "outputs": [],
   "source": [
    "# Antiferromagnetic State\n",
    "AFRho = qutip.basis(dim,index.index('10101010'))\n",
    "# Phase Separated State\n",
    "PSRho = qutip.basis(dim,index.index('00001111'))\n",
    "# Random States\n",
    "tmp = np.random.rand(dim,1)\n",
    "tmp = (tmp/np.sum(tmp))**0.5\n",
    "RandRho = qutip.Qobj(tmp)\n",
    "# Mixed states\n",
    "MixRho = (qutip.ket2dm(AFRho)+qutip.ket2dm(PSRho))/2.0\n",
    "\n",
    "States={'AFRho':AFRho,'PSRho':PSRho,'RandRho':RandRho,'MixRho':MixRho}\n",
    "Keys=['AFRho','PSRho','RandRho','MixRho']"
   ]
  },
  {
   "cell_type": "code",
   "execution_count": 609,
   "metadata": {
    "collapsed": true
   },
   "outputs": [],
   "source": [
    "t=qutip.mesolve(Hamiltonian,qutip.ket2dm(qutip.basis(70,45)),[0,1],[])"
   ]
  },
  {
   "cell_type": "code",
   "execution_count": 594,
   "metadata": {
    "collapsed": true
   },
   "outputs": [],
   "source": [
    "# plt.axis([0,12,0,0.1])\n",
    "# plt.plot(t.times,t.expect[0])\n",
    "# plt.plot(t.times,t.expect[1])\n",
    "# plt.plot(t.times,t.expect[2])\n",
    "# print t.times\n",
    "# print t.states"
   ]
  },
  {
   "cell_type": "code",
   "execution_count": 13,
   "metadata": {
    "collapsed": true
   },
   "outputs": [],
   "source": [
    "def generHa(index,disstre=1):\n",
    "    disoHa=np.zeros((dim,dim))\n",
    "    b = np.random.normal(0,disstre,len(initialstate))\n",
    "    for i in range(dim):\n",
    "        a=np.array(list(index[i]),dtype='int16')\n",
    "        disoHa[i][i]=np.sum(b*a)\n",
    "    return disoHa"
   ]
  },
  {
   "cell_type": "code",
   "execution_count": 18,
   "metadata": {
    "collapsed": true
   },
   "outputs": [],
   "source": [
    "def run(t,eta,inistate,disstre=1):\n",
    "    tmps=qutip.mesolve(Hamiltonian+generHa(index,disstre=disstre),inistate,[0,t],[])\n",
    "    for i in range(eta-1):\n",
    "        tmps=qutip.mesolve(Hamiltonian+generHa(index,disstre=disstre),tmps.states[1],[0,t],[])\n",
    "    return [qutip.expect(qutip.ket2dm(qutip.basis(dim,i)),tmps.states[1]) for i in range(dim)]\n",
    "\n",
    "def genPurierror(test,initialstate,NU=500):\n",
    "    if qutip.isket(initialstate):\n",
    "        pur = (qutip.ket2dm(initialstate)*qutip.ket2dm(initialstate)).tr()\n",
    "    elif qutip.isoper(initialstate):\n",
    "        pur = (initialstate*initialstate).tr()\n",
    "    else:\n",
    "        print 'Wrong State form'\n",
    "    test=np.array(test)\n",
    "    average1 = np.sum(test,axis=0)/NU \n",
    "    average2 = np.sum(test*test,axis=0)/NU\n",
    "    return np.average(average2*dim*(dim+1)-(average1*dim)**2-pur)\n",
    "\n",
    "def gen_vag_er(t,eta,times,inistate,disstre=1,NU=500):\n",
    "    error=[]\n",
    "    for j in range(times):\n",
    "        test=[]\n",
    "        for i in range(NU):\n",
    "            Pe=run(t,eta,inistate,disstre=disstre)\n",
    "            test.append(Pe)\n",
    "        error.append(genPurierror(test,inistate,NU))\n",
    "    return np.average(np.abs(error))"
   ]
  },
  {
   "cell_type": "code",
   "execution_count": 31,
   "metadata": {
    "collapsed": false
   },
   "outputs": [
    {
     "data": {
      "text/plain": [
       "{'AFRho': {}, 'MixRho': {}, 'PSRho': {}, 'RandRho': {}}"
      ]
     },
     "execution_count": 31,
     "metadata": {},
     "output_type": "execute_result"
    }
   ],
   "source": [
    "Ereta2={}\n",
    "for state in Keys:\n",
    "    Ereta2[state]={}\n",
    "Ereta2"
   ]
  },
  {
   "cell_type": "code",
   "execution_count": 32,
   "metadata": {
    "collapsed": false
   },
   "outputs": [
    {
     "name": "stdout",
     "output_type": "stream",
     "text": [
      "AFRho\n",
      "1:  0.66579944642\n",
      "195.414936 s\n",
      "4:  0.0731935234758\n",
      "257.643764 s\n",
      "10:  0.47066006314\n",
      "395.090582 s\n",
      "20:  0.288826697438\n",
      "603.156206 s\n",
      "40:  0.134943957858\n",
      "1042.830381 s\n",
      "__________________________________________________\n",
      "PSRho\n",
      "1:  0.0363738307803\n",
      "192.099317 s\n",
      "4:  0.041608959535\n",
      "249.605875 s\n",
      "10:  0.644954110351\n",
      "367.831132 s\n",
      "20:  0.294837980753\n",
      "568.111974 s\n",
      "40:  0.113807053926\n",
      "960.232582 s\n",
      "__________________________________________________\n",
      "RandRho\n",
      "1:  0.717223015969\n",
      "190.175146 s\n",
      "4:  0.19822858439\n",
      "250.931468 s\n",
      "10:  0.579624265586\n",
      "371.24527 s\n",
      "20:  0.351667335009\n",
      "578.555402 s\n",
      "40:  0.11503445647\n",
      "984.503217 s\n",
      "__________________________________________________\n",
      "Total time:  7207.43635 s\n"
     ]
    }
   ],
   "source": [
    "start=time.clock()\n",
    "start0=start\n",
    "\n",
    "for state in Keys[:3]:\n",
    "    print state\n",
    "    for eta in [1,4,10,20,40]:\n",
    "        Ereta2[state][str(eta)]=gen_vag_er(1,eta,10,States[state],0.5,NU=500)\n",
    "        print str(eta)+': ',Ereta2[state][str(eta)]\n",
    "        print time.clock()-start,'s'\n",
    "        start=time.clock()\n",
    "    print '_'*50\n",
    "    \n",
    "print 'Total time: ',time.clock()-start0,'s'"
   ]
  },
  {
   "cell_type": "code",
   "execution_count": 11,
   "metadata": {
    "collapsed": false
   },
   "outputs": [
    {
     "name": "stdout",
     "output_type": "stream",
     "text": [
      "MixRho\n",
      "1:  0.519547973162\n",
      "176.257105 s\n",
      "4:  0.274103840689\n",
      "520.435145 s\n",
      "10:  0.0811602351621\n",
      "1390.647596 s\n",
      "20:  0.0200705761038\n",
      "2953.000712 s\n",
      "40:  0.000355973665056\n",
      "5900.447502 s\n",
      "__________________________________________________\n",
      "Total time:  10940.79362 s\n",
      "{'PSRho': {'1': 2.1071441315063733, '10': 0.22113993564069451, '20': 0.04339306769482796, '4': 0.72452375751337028, '40': 0.009941105620286949}, 'MixRho': {'1': 0.5195479731622169, '10': 0.081160235162148708, '20': 0.020070576103751497, '4': 0.27410384068916649, '40': 0.00035597366505643683}, 'RandRho': {'1': 0.026286442729008284, '10': 0.20291657204407962, '20': 0.035219458227918228, '4': 1.0286503445712964, '40': 0.008777483643758837}, 'AFRho': {'1': 0.071621381869178352, '10': 0.21074957480592219, '20': 0.05402195646843877, '4': 0.43030655540896967, '40': 0.010967087694765742}}\n"
     ]
    }
   ],
   "source": [
    "start=time.clock()\n",
    "start0=start\n",
    "\n",
    "for state in Keys[3:]:\n",
    "    print state\n",
    "    for eta in [1,4,10,20,40]:\n",
    "        Ereta2[state][str(eta)]=gen_vag_er(1,eta,10,States[state],NU=500)\n",
    "        print str(eta)+': ',Ereta2[state][str(eta)]\n",
    "        print time.clock()-start,'s'\n",
    "        start=time.clock()\n",
    "    print '_'*50\n",
    "    \n",
    "print 'Total time: ',time.clock()-start0,'s'\n",
    "print Ereta2"
   ]
  },
  {
   "cell_type": "code",
   "execution_count": 12,
   "metadata": {
    "collapsed": false
   },
   "outputs": [
    {
     "data": {
      "text/plain": [
       "<matplotlib.legend.Legend at 0x7f6a35d543d0>"
      ]
     },
     "execution_count": 12,
     "metadata": {},
     "output_type": "execute_result"
    },
    {
     "data": {
      "image/png": "[encoded data removed]",
      "text/plain": [
       "<matplotlib.figure.Figure at 0x7f6a35d8c950>"
      ]
     },
     "metadata": {},
     "output_type": "display_data"
    }
   ],
   "source": [
    "timeli = np.sort(np.array(Ereta2[Keys[0]].keys(),dtype='int'))\n",
    "plt.plot(timeli/8.0,[Ereta2[Keys[0]][str(i)] for i in timeli],'bo-')\n",
    "timeli = np.sort(np.array(Ereta2[Keys[1]].keys(),dtype='int'))\n",
    "plt.plot(timeli/8.0,[Ereta2[Keys[1]][str(i)] for i in timeli],'o-',color='orange')\n",
    "timeli = np.sort(np.array(Ereta2[Keys[2]].keys(),dtype='int'))\n",
    "plt.plot(timeli/8.0,[Ereta2[Keys[2]][str(i)] for i in timeli],'go-')\n",
    "timeli = np.sort(np.array(Ereta2[Keys[3]].keys(),dtype='int'))\n",
    "plt.plot(timeli/8.0,[Ereta2[Keys[3]][str(i)] for i in timeli],'ro-')\n",
    "plt.yscale('log')\n",
    "plt.xlabel(r'$JT_{tot}/L$',fontsize=13)\n",
    "plt.ylabel(r'$|(p_2)_e-p_2|$',fontsize=13)\n",
    "plt.text(3.8,3,r'$\\rho_A$')\n",
    "plt.xlim(0,5.5)\n",
    "#plt.ylim(0.001,12)\n",
    "plt.legend(Keys[:4])\n",
    "#plt.savefig('differentstates.pdf',format='pdf',orientation='portrait',papertype='executive')"
   ]
  },
  {
   "cell_type": "code",
   "execution_count": 16,
   "metadata": {
    "collapsed": false
   },
   "outputs": [],
   "source": [
    "EredifDisor={}"
   ]
  },
  {
   "cell_type": "code",
   "execution_count": 21,
   "metadata": {
    "collapsed": false
   },
   "outputs": [
    {
     "name": "stdout",
     "output_type": "stream",
     "text": [
      "Total time:  0.00060300000041 s\n",
      "{0.5: 0.09662989410589938, 1: 0.35369314670371943, 2: 0.19578890701510471, 3: 0.14636527171080904, 0.1: 0.843823696081623, 0.8: 0.3438425495647246, 0.4: 0.12017805138705225, 0.6: 0.24733323118514955, 10: 1.8512834057914802, 0.3: 0.37909957211731599, 0.2: 0.64229599894695233, 0.7: 0.31778807873148546, 6: 0.58009566324097039, 5: 0.36182605817319957, 1.5: 0.28755203378396638}\n"
     ]
    }
   ],
   "source": [
    "start=time.clock()\n",
    "start0=start\n",
    "\n",
    "for diso in []:\n",
    "    EredifDisor[diso]=gen_vag_er(1,5,10,AFRho,disstre=diso,NU=500)\n",
    "    print str(diso)+': ',EredifDisor[diso]\n",
    "    print time.clock()-start,'s'\n",
    "    start=time.clock()\n",
    "    print '_'*50\n",
    "    \n",
    "print 'Total time: ',time.clock()-start0,'s'\n",
    "print EredifDisor"
   ]
  },
  {
   "cell_type": "code",
   "execution_count": 30,
   "metadata": {
    "collapsed": false
   },
   "outputs": [
    {
     "data": {
      "text/plain": [
       "[<matplotlib.lines.Line2D at 0x7f6a324a5490>]"
      ]
     },
     "execution_count": 30,
     "metadata": {},
     "output_type": "execute_result"
    },
    {
     "data": {
      "image/png": "[encoded data removed]",
      "text/plain": [
       "<matplotlib.figure.Figure at 0x7f6a31dea150>"
      ]
     },
     "metadata": {},
     "output_type": "display_data"
    }
   ],
   "source": [
    "keyo=np.sort(EredifDisor.keys())\n",
    "plt.plot(keyo,[EredifDisor[key] for key in keyo],'ro-')"
   ]
  },
  {
   "cell_type": "code",
   "execution_count": 479,
   "metadata": {
    "collapsed": false
   },
   "outputs": [
    {
     "name": "stdout",
     "output_type": "stream",
     "text": [
      "9.5:  0.0902619575842\n",
      "1394.950583 s\n",
      "10.5:  0.0686615708557\n",
      "1476.057478 s\n",
      "Total time:  2871.008529 s\n"
     ]
    }
   ],
   "source": [
    "start=time.clock()\n",
    "start0=start\n",
    "\n",
    "for i in np.linspace(9.5,10.5,2):\n",
    "    quenchtime[str(i)]=gen_vag_er(i,30,10,NU=500)\n",
    "    print str(i)+': ',quenchtime[str(i)]\n",
    "    print time.clock()-start,'s'\n",
    "    start=time.clock()\n",
    "    \n",
    "print 'Total time: ',time.clock()-start0,'s'"
   ]
  },
  {
   "cell_type": "code",
   "execution_count": 492,
   "metadata": {
    "collapsed": true
   },
   "outputs": [],
   "source": [
    "totaltimes={}"
   ]
  },
  {
   "cell_type": "code",
   "execution_count": 493,
   "metadata": {
    "collapsed": false
   },
   "outputs": [
    {
     "name": "stdout",
     "output_type": "stream",
     "text": [
      "5:  2.09806604632\n",
      "140.555155 s\n",
      "10:  0.704869739996\n",
      "254.837883 s\n",
      "15:  0.271150754263\n",
      "373.873381 s\n",
      "20:  0.149028301794\n",
      "488.72595 s\n",
      "25:  0.123062983389\n",
      "602.208824 s\n",
      "30:  0.10771693612\n",
      "714.697281 s\n",
      "35:  0.0968962269413\n",
      "826.374881 s\n",
      "40:  0.0662278014518\n",
      "940.652077 s\n",
      "45:  0.0961452594443\n",
      "1053.866166 s\n",
      "50:  0.0964785817344\n",
      "1169.000328 s\n",
      "Total time:  6564.793927 s\n"
     ]
    }
   ],
   "source": [
    "start=time.clock()\n",
    "start0=start\n",
    "\n",
    "for i in np.array(np.linspace(5,50,10),dtype='int'):\n",
    "    totaltimes[str(i)]=gen_vag_er(2,i,10,NU=500)\n",
    "    print str(i)+': ',totaltimes[str(i)]\n",
    "    print time.clock()-start,'s'\n",
    "    start=time.clock()\n",
    "    \n",
    "print 'Total time: ',time.clock()-start0,'s'"
   ]
  },
  {
   "cell_type": "code",
   "execution_count": 17,
   "metadata": {
    "collapsed": false
   },
   "outputs": [
    {
     "data": {
      "text/html": [
       "<div>\n",
       "<table border=\"1\" class=\"dataframe\">\n",
       "  <thead>\n",
       "    <tr style=\"text-align: right;\">\n",
       "      <th></th>\n",
       "      <th>AFRho</th>\n",
       "      <th>MixRho</th>\n",
       "      <th>PSRho</th>\n",
       "      <th>RandRho</th>\n",
       "    </tr>\n",
       "  </thead>\n",
       "  <tbody>\n",
       "    <tr>\n",
       "      <th>20</th>\n",
       "      <td>0.006171</td>\n",
       "      <td>0.004282</td>\n",
       "      <td>0.007967</td>\n",
       "      <td>0.007274</td>\n",
       "    </tr>\n",
       "    <tr>\n",
       "      <th>40</th>\n",
       "      <td>0.010918</td>\n",
       "      <td>0.004463</td>\n",
       "      <td>0.008812</td>\n",
       "      <td>0.007771</td>\n",
       "    </tr>\n",
       "    <tr>\n",
       "      <th>10</th>\n",
       "      <td>0.028450</td>\n",
       "      <td>0.033609</td>\n",
       "      <td>0.092121</td>\n",
       "      <td>0.010802</td>\n",
       "    </tr>\n",
       "    <tr>\n",
       "      <th>4</th>\n",
       "      <td>0.309752</td>\n",
       "      <td>0.422447</td>\n",
       "      <td>1.635409</td>\n",
       "      <td>0.383442</td>\n",
       "    </tr>\n",
       "    <tr>\n",
       "      <th>1</th>\n",
       "      <td>1.352248</td>\n",
       "      <td>1.827381</td>\n",
       "      <td>6.058484</td>\n",
       "      <td>1.096668</td>\n",
       "    </tr>\n",
       "  </tbody>\n",
       "</table>\n",
       "</div>"
      ],
      "text/plain": [
       "       AFRho    MixRho     PSRho   RandRho\n",
       "20  0.006171  0.004282  0.007967  0.007274\n",
       "40  0.010918  0.004463  0.008812  0.007771\n",
       "10  0.028450  0.033609  0.092121  0.010802\n",
       "4   0.309752  0.422447  1.635409  0.383442\n",
       "1   1.352248  1.827381  6.058484  1.096668"
      ]
     },
     "execution_count": 17,
     "metadata": {},
     "output_type": "execute_result"
    }
   ],
   "source": [
    "df=pd.DataFrame(Ereta2)\n",
    "#df.to_csv('differentstates.csv')\n",
    "df.sort_values(by=['PSRho','MixRho'])"
   ]
  },
  {
   "cell_type": "code",
   "execution_count": 18,
   "metadata": {
    "collapsed": false
   },
   "outputs": [
    {
     "data": {
      "text/plain": [
       "{'AFRho': {'1': 1.3522478133532632,\n",
       "  '10': 0.028450250761197969,\n",
       "  '20': 0.0061713890177917613,\n",
       "  '4': 0.30975174673426747,\n",
       "  '40': 0.01091791020996489},\n",
       " 'MixRho': {'1': 1.8273812235980484,\n",
       "  '10': 0.033608722622777178,\n",
       "  '20': 0.0042823768870182801,\n",
       "  '4': 0.42244701211291752,\n",
       "  '40': 0.0044631900854864189},\n",
       " 'PSRho': {'1': 6.0584836396461714,\n",
       "  '10': 0.092121351899429021,\n",
       "  '20': 0.0079667856145226677,\n",
       "  '4': 1.6354090915932484,\n",
       "  '40': 0.0088117659821985803},\n",
       " 'RandRho': {'1': 1.0966681730276124,\n",
       "  '10': 0.01080187051270688,\n",
       "  '20': 0.0072740775019960024,\n",
       "  '4': 0.38344197176476708,\n",
       "  '40': 0.0077707259141835518}}"
      ]
     },
     "execution_count": 18,
     "metadata": {},
     "output_type": "execute_result"
    }
   ],
   "source": [
    "Ereta2"
   ]
  },
  {
   "cell_type": "code",
   "execution_count": 24,
   "metadata": {
    "collapsed": false
   },
   "outputs": [
    {
     "name": "stdout",
     "output_type": "stream",
     "text": [
      "0.5 0.0966298941059\n",
      "1 0.353693146704\n",
      "2 0.195788907015\n",
      "3 0.146365271711\n",
      "0.1 0.843823696082\n",
      "0.8 0.343842549565\n",
      "0.4 0.120178051387\n",
      "0.6 0.247333231185\n",
      "10 1.85128340579\n",
      "0.3 0.379099572117\n",
      "0.2 0.642295998947\n",
      "0.7 0.317788078731\n",
      "6 0.580095663241\n",
      "5 0.361826058173\n",
      "1.5 0.287552033784\n"
     ]
    }
   ],
   "source": [
    "for keys, number in EredifDisor.items():\n",
    "    print keys,number"
   ]
  },
  {
   "cell_type": "code",
   "execution_count": null,
   "metadata": {
    "collapsed": true
   },
   "outputs": [],
   "source": []
  }
 ],
 "metadata": {
  "kernelspec": {
   "display_name": "Python 2",
   "language": "python",
   "name": "python2"
  },
  "language_info": {
   "codemirror_mode": {
    "name": "ipython",
    "version": 2
   },
   "file_extension": ".py",
   "mimetype": "text/x-python",
   "name": "python",
   "nbconvert_exporter": "python",
   "pygments_lexer": "ipython2",
   "version": "2.7.13"
  }
 },
 "nbformat": 4,
 "nbformat_minor": 2
}
