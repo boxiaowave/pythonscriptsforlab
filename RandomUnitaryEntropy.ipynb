{
 "cells": [
  {
   "cell_type": "code",
   "execution_count": 2,
   "metadata": {
    "collapsed": true
   },
   "outputs": [],
   "source": [
    "from itertools import permutations\n",
    "import pandas as pd\n",
    "import numpy as np\n",
    "import qutip\n",
    "import matplotlib.pyplot as plt\n",
    "import seaborn\n",
    "import time\n",
    "%matplotlib inline"
   ]
  },
  {
   "cell_type": "code",
   "execution_count": 3,
   "metadata": {
    "collapsed": true
   },
   "outputs": [],
   "source": [
    "initialstate=[1,0,1,0,1,0,1,0]\n",
    "b=list(permutations(initialstate))\n",
    "b=list(set(b))\n",
    "\n",
    "def listtostr(l):\n",
    "    s=''\n",
    "    for i in l:\n",
    "        s=s+str(i)\n",
    "    return s\n",
    "\n",
    "def strlist(b):\n",
    "    index = []\n",
    "    for li in b:\n",
    "        index.append(listtostr(li))\n",
    "    return index\n",
    "\n",
    "def find_rel_sta(a):\n",
    "    rel_sta=[]\n",
    "    tm=len(a)-1\n",
    "    a=[int(x) for x in a]\n",
    "    for i in range(len(a)-1):\n",
    "        if a[i]!=a[i+1]:\n",
    "            sta = a[:]\n",
    "            tm = tm-2\n",
    "            sta[i],sta[i+1]=sta[i+1],sta[i]\n",
    "            rel_sta.append(sta)\n",
    "    return rel_sta,tm\n",
    "\n",
    "index = strlist(b)\n",
    "dim = len(index)\n",
    "initialstateindex = index.index(listtostr(initialstate))"
   ]
  },
  {
   "cell_type": "code",
   "execution_count": 4,
   "metadata": {
    "collapsed": true
   },
   "outputs": [],
   "source": [
    "s=pd.DataFrame(np.zeros((dim,dim)),index=index,columns=index)"
   ]
  },
  {
   "cell_type": "code",
   "execution_count": 5,
   "metadata": {
    "collapsed": true
   },
   "outputs": [],
   "source": [
    "for i in range(dim):\n",
    "    s[index[i]][strlist(find_rel_sta(index[i])[0])]=0.5\n",
    "    s.iloc[i][i]=0.25*find_rel_sta(index[i])[1]"
   ]
  },
  {
   "cell_type": "code",
   "execution_count": 6,
   "metadata": {},
   "outputs": [
    {
     "name": "stdout",
     "output_type": "stream",
     "text": [
      "Quantum object: dims = [[70], [70]], shape = (70, 70), type = oper, isherm = True\n",
      "Qobj data =\n",
      "[[-3.  0.  0. ...,  0.  0.  0.]\n",
      " [ 0.  1.  0. ...,  0.  0.  0.]\n",
      " [ 0.  0. -1. ...,  0.  2.  0.]\n",
      " ..., \n",
      " [ 0.  0.  0. ..., -1.  0.  0.]\n",
      " [ 0.  0.  2. ...,  0. -5.  0.]\n",
      " [ 0.  0.  0. ...,  0.  0.  1.]]\n"
     ]
    }
   ],
   "source": [
    "Hamiltonian=4*qutip.Qobj(s.as_matrix())\n",
    "eigsta=Hamiltonian.eigenstates()[1]\n",
    "eigen=Hamiltonian.eigenstates()[0]\n",
    "print Hamiltonian"
   ]
  },
  {
   "cell_type": "code",
   "execution_count": 7,
   "metadata": {
    "collapsed": true
   },
   "outputs": [],
   "source": [
    "# Antiferromagnetic State\n",
    "AFRho = qutip.basis(dim,index.index('10101010'))\n",
    "# Phase Separated State\n",
    "PSRho = qutip.basis(dim,index.index('00001111'))\n",
    "# Random States\n",
    "tmp = np.random.rand(dim,1)\n",
    "tmp = (tmp/np.sum(tmp))**0.5\n",
    "RandRho = qutip.Qobj(tmp)\n",
    "# Mixed states\n",
    "MixRho = (qutip.ket2dm(AFRho)+qutip.ket2dm(PSRho))/2.0\n",
    "\n",
    "States={'AFRho':AFRho,'PSRho':PSRho,'RandRho':RandRho,'MixRho':MixRho}\n",
    "Keys=['AFRho','PSRho','RandRho','MixRho']"
   ]
  },
  {
   "cell_type": "code",
   "execution_count": 609,
   "metadata": {
    "collapsed": true
   },
   "outputs": [],
   "source": [
    "t=qutip.mesolve(Hamiltonian,qutip.ket2dm(qutip.basis(70,45)),[0,1],[])"
   ]
  },
  {
   "cell_type": "code",
   "execution_count": 594,
   "metadata": {
    "collapsed": true
   },
   "outputs": [],
   "source": [
    "# plt.axis([0,12,0,0.1])\n",
    "# plt.plot(t.times,t.expect[0])\n",
    "# plt.plot(t.times,t.expect[1])\n",
    "# plt.plot(t.times,t.expect[2])\n",
    "# print t.times\n",
    "# print t.states"
   ]
  },
  {
   "cell_type": "code",
   "execution_count": 8,
   "metadata": {
    "collapsed": true
   },
   "outputs": [],
   "source": [
    "def generHa(index):\n",
    "    disoHa=np.zeros((dim,dim))\n",
    "    b = np.random.normal(0,1,len(initialstate))\n",
    "    for i in range(dim):\n",
    "        a=np.array(list(index[i]),dtype='int16')\n",
    "        disoHa[i][i]=np.sum(-b*((-1)**a))\n",
    "    return disoHa"
   ]
  },
  {
   "cell_type": "code",
   "execution_count": 9,
   "metadata": {
    "collapsed": true
   },
   "outputs": [],
   "source": [
    "def run(t,eta,inistate):\n",
    "    tmps=qutip.mesolve(Hamiltonian+generHa(index),inistate,[0,t],[])\n",
    "    for i in range(eta-1):\n",
    "        tmps=qutip.mesolve(Hamiltonian+generHa(index),tmps.states[1],[0,t],[])\n",
    "    return [qutip.expect(qutip.ket2dm(qutip.basis(dim,i)),tmps.states[1]) for i in range(dim)]\n",
    "\n",
    "def genPurierror(test,initialstate,NU=500):\n",
    "    if qutip.isket(initialstate):\n",
    "        pur = (qutip.ket2dm(initialstate)*qutip.ket2dm(initialstate)).tr()\n",
    "    elif qutip.isoper(initialstate):\n",
    "        pur = (initialstate*initialstate).tr()\n",
    "    else:\n",
    "        print 'Wrong State form'\n",
    "    test=np.array(test)\n",
    "    average1 = np.sum(test,axis=0)/NU \n",
    "    average2 = np.sum(test*test,axis=0)/NU\n",
    "    return np.average(average2*dim*(dim+1)-(average1*dim)**2-pur)\n",
    "\n",
    "def gen_vag_er(t,eta,times,inistate,NU=500):\n",
    "    error=[]\n",
    "    for j in range(times):\n",
    "        test=[]\n",
    "        for i in range(NU):\n",
    "            Pe=run(t,eta,inistate)\n",
    "            test.append(Pe)\n",
    "        error.append(genPurierror(test,inistate,NU))\n",
    "    return np.average(np.abs(error))"
   ]
  },
  {
   "cell_type": "code",
   "execution_count": 10,
   "metadata": {},
   "outputs": [
    {
     "data": {
      "text/plain": [
       "{'AFRho': {}, 'MixRho': {}, 'PSRho': {}, 'RandRho': {}}"
      ]
     },
     "execution_count": 10,
     "metadata": {},
     "output_type": "execute_result"
    }
   ],
   "source": [
    "Ereta2={}\n",
    "for state in Keys:\n",
    "    Ereta2[state]={}\n",
    "Ereta2"
   ]
  },
  {
   "cell_type": "code",
   "execution_count": 11,
   "metadata": {},
   "outputs": [
    {
     "name": "stdout",
     "output_type": "stream",
     "text": [
      "AFRho\n",
      "1:  1.35224781335\n",
      "195.398057 s\n",
      "4:  0.309751746734\n",
      "265.91997 s\n",
      "10:  0.0284502507612\n",
      "407.270619 s\n",
      "20:  0.00617138901779\n",
      "634.095891 s\n",
      "40:  0.01091791021\n",
      "1091.355598 s\n",
      "__________________________________________________\n",
      "PSRho\n",
      "1:  6.05848363965\n",
      "188.822433 s\n",
      "4:  1.63540909159\n",
      "254.893647 s\n",
      "10:  0.0921213518994\n",
      "391.686528 s\n",
      "20:  0.00796678561452\n",
      "621.378377 s\n",
      "40:  0.0088117659822\n",
      "1082.696619 s\n",
      "__________________________________________________\n",
      "RandRho\n",
      "1:  1.09666817303\n",
      "191.15034 s\n",
      "4:  0.383441971765\n",
      "258.977335 s\n",
      "10:  0.0108018705127\n",
      "396.233448 s\n",
      "20:  0.007274077502\n",
      "622.371321 s\n",
      "40:  0.00777072591418\n",
      "1081.053482 s\n",
      "__________________________________________________\n",
      "Total time:  7683.307376 s\n"
     ]
    }
   ],
   "source": [
    "start=time.clock()\n",
    "start0=start\n",
    "\n",
    "for state in Keys[:3]:\n",
    "    print state\n",
    "    for eta in [1,4,10,20,40]:\n",
    "        Ereta2[state][str(eta)]=gen_vag_er(1,eta,10,States[state],NU=500)\n",
    "        print str(eta)+': ',Ereta2[state][str(eta)]\n",
    "        print time.clock()-start,'s'\n",
    "        start=time.clock()\n",
    "    print '_'*50\n",
    "    \n",
    "print 'Total time: ',time.clock()-start0,'s'"
   ]
  },
  {
   "cell_type": "code",
   "execution_count": 12,
   "metadata": {},
   "outputs": [
    {
     "name": "stdout",
     "output_type": "stream",
     "text": [
      "MixRho\n",
      "1:  1.8273812236\n",
      "173.278245 s\n",
      "4:  0.422447012113\n",
      "578.551447 s\n",
      "10:  0.0336087226228\n",
      "1436.066862 s\n",
      "20:  0.00428237688702\n",
      "2836.18121 s\n",
      "40:  0.00446319008549\n",
      "5641.346701 s\n",
      "__________________________________________________\n",
      "Total time:  10665.430782 s\n",
      "{'PSRho': {'1': 6.0584836396461714, '10': 0.092121351899429021, '20': 0.0079667856145226677, '4': 1.6354090915932484, '40': 0.0088117659821985803}, 'MixRho': {'1': 1.8273812235980484, '10': 0.033608722622777178, '20': 0.0042823768870182801, '4': 0.42244701211291752, '40': 0.0044631900854864189}, 'RandRho': {'1': 1.0966681730276124, '10': 0.01080187051270688, '20': 0.0072740775019960024, '4': 0.38344197176476708, '40': 0.0077707259141835518}, 'AFRho': {'1': 1.3522478133532632, '10': 0.028450250761197969, '20': 0.0061713890177917613, '4': 0.30975174673426747, '40': 0.01091791020996489}}\n"
     ]
    }
   ],
   "source": [
    "start=time.clock()\n",
    "start0=start\n",
    "\n",
    "for state in Keys[3:]:\n",
    "    print state\n",
    "    for eta in [1,4,10,20,40]:\n",
    "        Ereta2[state][str(eta)]=gen_vag_er(1,eta,1,States[state],NU=500)\n",
    "        print str(eta)+': ',Ereta2[state][str(eta)]\n",
    "        print time.clock()-start,'s'\n",
    "        start=time.clock()\n",
    "    print '_'*50\n",
    "    \n",
    "print 'Total time: ',time.clock()-start0,'s'\n",
    "print Ereta2"
   ]
  },
  {
   "cell_type": "code",
   "execution_count": 20,
   "metadata": {},
   "outputs": [
    {
     "data": {
      "image/png": "[encoded data removed]",
      "text/plain": [
       "<matplotlib.figure.Figure at 0x7efd0400c9d0>"
      ]
     },
     "metadata": {},
     "output_type": "display_data"
    }
   ],
   "source": [
    "timeli = np.sort(np.array(Ereta2[Keys[0]].keys(),dtype='int'))\n",
    "plt.plot(timeli/8.0,[Ereta2[Keys[0]][str(i)] for i in timeli],'bo-')\n",
    "timeli = np.sort(np.array(Ereta2[Keys[1]].keys(),dtype='int'))\n",
    "plt.plot(timeli/8.0,[Ereta2[Keys[1]][str(i)] for i in timeli],'o-',color='orange')\n",
    "timeli = np.sort(np.array(Ereta2[Keys[2]].keys(),dtype='int'))\n",
    "plt.plot(timeli/8.0,[Ereta2[Keys[2]][str(i)] for i in timeli],'go-')\n",
    "timeli = np.sort(np.array(Ereta2[Keys[3]].keys(),dtype='int'))\n",
    "plt.plot(timeli/8.0,[Ereta2[Keys[3]][str(i)] for i in timeli],'ro-')\n",
    "plt.yscale('log')\n",
    "plt.xlabel(r'$JT_{tot}/L$',fontsize=13)\n",
    "plt.ylabel(r'$|(p_2)_e-p_2|$',fontsize=13)\n",
    "plt.text(3.8,3,r'$\\rho_A$')\n",
    "plt.xlim(0,5.5)\n",
    "#plt.ylim(0.001,12)\n",
    "plt.legend(Keys[:4])\n",
    "plt.savefig('differentstates.pdf',format='pdf',orientation='portrait',papertype='executive')"
   ]
  },
  {
   "cell_type": "code",
   "execution_count": 710,
   "metadata": {},
   "outputs": [
    {
     "name": "stdout",
     "output_type": "stream",
     "text": [
      "{'PSRho': {'10': 0.89839848646174347, '12': 0.80790366998860164, '20': 0.40765704426667487, '16': 0.56850684255459683, '30': 0.15458357652150859, '40': 0.18395416251348309, '2': 0.99999999999991862, '4': 0.99999314168581321, '6': 0.99554645375854511}, 'RandRho': {'10': 0.18153435184647332, '12': 0.17611310731850441, '20': 0.13982200472300144, '16': 0.10252203198471684, '30': 0.092933522857161416, '40': 0.086424178394710546, '2': 0.37245616723775277, '4': 0.54291264150918528, '6': 0.39180597235357073}, 'AFRho': {'10': 0.58256964467273886, '12': 0.41878661623780983, '20': 0.086185470966228153, '16': 0.14216583060044721, '30': 0.13642586178539173, '40': 0.11868689853975778, '2': 1.93721953724762, '4': 2.1067963277983175, '6': 1.2729965978047519}}\n"
     ]
    },
    {
     "data": {
      "image/png": "[encoded data removed]",
      "text/plain": [
       "<matplotlib.figure.Figure at 0x7f47e665d5d0>"
      ]
     },
     "metadata": {},
     "output_type": "display_data"
    }
   ],
   "source": [
    "timeli = np.sort(np.array(Ereta[Keys[0]].keys(),dtype='int'))\n",
    "plt.plot(timeli/8.0,[Ereta[Keys[0]][str(i)] for i in timeli],'bo-')\n",
    "timeli = np.sort(np.array(Ereta[Keys[1]].keys(),dtype='int'))\n",
    "plt.plot(timeli/8.0,[Ereta[Keys[1]][str(i)] for i in timeli],'ro-')\n",
    "timeli = np.sort(np.array(Ereta[Keys[2]].keys(),dtype='int'))\n",
    "plt.plot(timeli/8.0,[Ereta[Keys[2]][str(i)] for i in timeli],'go-')\n",
    "plt.yscale('log')\n",
    "plt.legend(Keys[:3])\n",
    "print Ereta"
   ]
  },
  {
   "cell_type": "code",
   "execution_count": 475,
   "metadata": {},
   "outputs": [
    {
     "name": "stdout",
     "output_type": "stream",
     "text": [
      "7.5:  0.105355470234\n",
      "1207.411181 s\n",
      "9.0:  0.0760588547072\n",
      "1338.352706 s\n",
      "Total time:  2545.764606 s\n"
     ]
    }
   ],
   "source": [
    "start=time.clock()\n",
    "start0=start\n",
    "\n",
    "for i in np.linspace(7.5,9,2):\n",
    "    quenchtime[str(i)]=gen_vag_er(i,30,10,NU=500)\n",
    "    print str(i)+': ',quenchtime[str(i)]\n",
    "    print time.clock()-start,'s'\n",
    "    start=time.clock()\n",
    "    \n",
    "print 'Total time: ',time.clock()-start0,'s'"
   ]
  },
  {
   "cell_type": "code",
   "execution_count": 479,
   "metadata": {},
   "outputs": [
    {
     "name": "stdout",
     "output_type": "stream",
     "text": [
      "9.5:  0.0902619575842\n",
      "1394.950583 s\n",
      "10.5:  0.0686615708557\n",
      "1476.057478 s\n",
      "Total time:  2871.008529 s\n"
     ]
    }
   ],
   "source": [
    "start=time.clock()\n",
    "start0=start\n",
    "\n",
    "for i in np.linspace(9.5,10.5,2):\n",
    "    quenchtime[str(i)]=gen_vag_er(i,30,10,NU=500)\n",
    "    print str(i)+': ',quenchtime[str(i)]\n",
    "    print time.clock()-start,'s'\n",
    "    start=time.clock()\n",
    "    \n",
    "print 'Total time: ',time.clock()-start0,'s'"
   ]
  },
  {
   "cell_type": "code",
   "execution_count": 492,
   "metadata": {
    "collapsed": true
   },
   "outputs": [],
   "source": [
    "totaltimes={}"
   ]
  },
  {
   "cell_type": "code",
   "execution_count": 493,
   "metadata": {},
   "outputs": [
    {
     "name": "stdout",
     "output_type": "stream",
     "text": [
      "5:  2.09806604632\n",
      "140.555155 s\n",
      "10:  0.704869739996\n",
      "254.837883 s\n",
      "15:  0.271150754263\n",
      "373.873381 s\n",
      "20:  0.149028301794\n",
      "488.72595 s\n",
      "25:  0.123062983389\n",
      "602.208824 s\n",
      "30:  0.10771693612\n",
      "714.697281 s\n",
      "35:  0.0968962269413\n",
      "826.374881 s\n",
      "40:  0.0662278014518\n",
      "940.652077 s\n",
      "45:  0.0961452594443\n",
      "1053.866166 s\n",
      "50:  0.0964785817344\n",
      "1169.000328 s\n",
      "Total time:  6564.793927 s\n"
     ]
    }
   ],
   "source": [
    "start=time.clock()\n",
    "start0=start\n",
    "\n",
    "for i in np.array(np.linspace(5,50,10),dtype='int'):\n",
    "    totaltimes[str(i)]=gen_vag_er(2,i,10,NU=500)\n",
    "    print str(i)+': ',totaltimes[str(i)]\n",
    "    print time.clock()-start,'s'\n",
    "    start=time.clock()\n",
    "    \n",
    "print 'Total time: ',time.clock()-start0,'s'"
   ]
  },
  {
   "cell_type": "code",
   "execution_count": 17,
   "metadata": {},
   "outputs": [
    {
     "data": {
      "text/html": [
       "<div>\n",
       "<table border=\"1\" class=\"dataframe\">\n",
       "  <thead>\n",
       "    <tr style=\"text-align: right;\">\n",
       "      <th></th>\n",
       "      <th>AFRho</th>\n",
       "      <th>MixRho</th>\n",
       "      <th>PSRho</th>\n",
       "      <th>RandRho</th>\n",
       "    </tr>\n",
       "  </thead>\n",
       "  <tbody>\n",
       "    <tr>\n",
       "      <th>20</th>\n",
       "      <td>0.006171</td>\n",
       "      <td>0.004282</td>\n",
       "      <td>0.007967</td>\n",
       "      <td>0.007274</td>\n",
       "    </tr>\n",
       "    <tr>\n",
       "      <th>40</th>\n",
       "      <td>0.010918</td>\n",
       "      <td>0.004463</td>\n",
       "      <td>0.008812</td>\n",
       "      <td>0.007771</td>\n",
       "    </tr>\n",
       "    <tr>\n",
       "      <th>10</th>\n",
       "      <td>0.028450</td>\n",
       "      <td>0.033609</td>\n",
       "      <td>0.092121</td>\n",
       "      <td>0.010802</td>\n",
       "    </tr>\n",
       "    <tr>\n",
       "      <th>4</th>\n",
       "      <td>0.309752</td>\n",
       "      <td>0.422447</td>\n",
       "      <td>1.635409</td>\n",
       "      <td>0.383442</td>\n",
       "    </tr>\n",
       "    <tr>\n",
       "      <th>1</th>\n",
       "      <td>1.352248</td>\n",
       "      <td>1.827381</td>\n",
       "      <td>6.058484</td>\n",
       "      <td>1.096668</td>\n",
       "    </tr>\n",
       "  </tbody>\n",
       "</table>\n",
       "</div>"
      ],
      "text/plain": [
       "       AFRho    MixRho     PSRho   RandRho\n",
       "20  0.006171  0.004282  0.007967  0.007274\n",
       "40  0.010918  0.004463  0.008812  0.007771\n",
       "10  0.028450  0.033609  0.092121  0.010802\n",
       "4   0.309752  0.422447  1.635409  0.383442\n",
       "1   1.352248  1.827381  6.058484  1.096668"
      ]
     },
     "execution_count": 17,
     "metadata": {},
     "output_type": "execute_result"
    }
   ],
   "source": [
    "df=pd.DataFrame(Ereta2)\n",
    "df.to_csv('differentstates.csv')\n",
    "df.sort_values(by=['PSRho','MixRho'])"
   ]
  },
  {
   "cell_type": "code",
   "execution_count": 18,
   "metadata": {},
   "outputs": [
    {
     "data": {
      "text/plain": [
       "{'AFRho': {'1': 1.3522478133532632,\n",
       "  '10': 0.028450250761197969,\n",
       "  '20': 0.0061713890177917613,\n",
       "  '4': 0.30975174673426747,\n",
       "  '40': 0.01091791020996489},\n",
       " 'MixRho': {'1': 1.8273812235980484,\n",
       "  '10': 0.033608722622777178,\n",
       "  '20': 0.0042823768870182801,\n",
       "  '4': 0.42244701211291752,\n",
       "  '40': 0.0044631900854864189},\n",
       " 'PSRho': {'1': 6.0584836396461714,\n",
       "  '10': 0.092121351899429021,\n",
       "  '20': 0.0079667856145226677,\n",
       "  '4': 1.6354090915932484,\n",
       "  '40': 0.0088117659821985803},\n",
       " 'RandRho': {'1': 1.0966681730276124,\n",
       "  '10': 0.01080187051270688,\n",
       "  '20': 0.0072740775019960024,\n",
       "  '4': 0.38344197176476708,\n",
       "  '40': 0.0077707259141835518}}"
      ]
     },
     "execution_count": 18,
     "metadata": {},
     "output_type": "execute_result"
    }
   ],
   "source": [
    "Ereta2"
   ]
  },
  {
   "cell_type": "code",
   "execution_count": null,
   "metadata": {
    "collapsed": true
   },
   "outputs": [],
   "source": []
  }
 ],
 "metadata": {
  "kernelspec": {
   "display_name": "Python 2",
   "language": "python",
   "name": "python2"
  },
  "language_info": {
   "codemirror_mode": {
    "name": "ipython",
    "version": 2
   },
   "file_extension": ".py",
   "mimetype": "text/x-python",
   "name": "python",
   "nbconvert_exporter": "python",
   "pygments_lexer": "ipython2",
   "version": "2.7.13"
  }
 },
 "nbformat": 4,
 "nbformat_minor": 2
}
