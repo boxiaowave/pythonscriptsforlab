{
 "cells": [
  {
   "cell_type": "code",
   "execution_count": 1,
   "metadata": {
    "collapsed": true
   },
   "outputs": [],
   "source": [
    "from itertools import permutations\n",
    "import pandas as pd\n",
    "import numpy as np\n",
    "import qutip\n",
    "import matplotlib.pyplot as plt\n",
    "import seaborn\n",
    "import time\n",
    "%matplotlib inline"
   ]
  },
  {
   "cell_type": "code",
   "execution_count": 25,
   "metadata": {
    "collapsed": true
   },
   "outputs": [],
   "source": [
    "stateslen=[2,4,6,8,10]\n",
    "sty=stateslen[4]\n",
    "initialstate='10'*(sty/2)\n",
    "length=len(initialstate)\n",
    "b=list(permutations(initialstate))\n",
    "b=list(set(b))\n",
    "\n",
    "def listtostr(l):\n",
    "    s=''\n",
    "    for i in l:\n",
    "        s=s+str(i)\n",
    "    return s\n",
    "\n",
    "def strlist(b):\n",
    "    index = []\n",
    "    for li in b:\n",
    "        index.append(listtostr(li))\n",
    "    return index\n",
    "\n",
    "def find_rel_sta(a):\n",
    "    rel_sta=[]\n",
    "    tm=len(a)-1\n",
    "    a=[int(x) for x in a]\n",
    "    for i in range(len(a)-1):\n",
    "        if a[i]!=a[i+1]:\n",
    "            sta = a[:]\n",
    "            tm = tm-2\n",
    "            sta[i],sta[i+1]=sta[i+1],sta[i]\n",
    "            rel_sta.append(sta)\n",
    "    return rel_sta,tm\n",
    "\n",
    "index = strlist(b)\n",
    "dim = len(index)\n",
    "initialstateindex = index.index(listtostr(initialstate))"
   ]
  },
  {
   "cell_type": "code",
   "execution_count": 26,
   "metadata": {},
   "outputs": [
    {
     "name": "stdout",
     "output_type": "stream",
     "text": [
      "Quantum object: dims = [[252], [252]], shape = (252, 252), type = oper, isherm = True\n",
      "Qobj data =\n",
      "[[-1.  0.  0. ...,  0.  0.  0.]\n",
      " [ 0. -1.  0. ...,  0.  0.  0.]\n",
      " [ 0.  0. -3. ...,  0.  0.  0.]\n",
      " ..., \n",
      " [ 0.  0.  0. ..., -3.  0.  0.]\n",
      " [ 0.  0.  0. ...,  0. -1.  0.]\n",
      " [ 0.  0.  0. ...,  0.  0.  1.]]\n"
     ]
    }
   ],
   "source": [
    "s=pd.DataFrame(np.zeros((dim,dim)),index=index,columns=index)\n",
    "for i in range(dim):\n",
    "    s[index[i]][strlist(find_rel_sta(index[i])[0])]=0.5\n",
    "    s.iloc[i][i]=0.25*find_rel_sta(index[i])[1]\n",
    "\n",
    "Hamiltonian=4*qutip.Qobj(s.as_matrix())\n",
    "eigsta=Hamiltonian.eigenstates()[1]\n",
    "eigen=Hamiltonian.eigenstates()[0]\n",
    "print Hamiltonian"
   ]
  },
  {
   "cell_type": "code",
   "execution_count": 27,
   "metadata": {
    "collapsed": true
   },
   "outputs": [],
   "source": [
    "# Antiferromagnetic State\n",
    "AFRho = qutip.basis(dim,index.index('10'*(length/2)))\n",
    "# Phase Separated State\n",
    "# PSRho = qutip.basis(dim,index.index('0'*length/2+'1'*length/2))\n",
    "# # Random States\n",
    "# tmp = np.random.rand(dim,1)\n",
    "# tmp = (tmp/np.sum(tmp))**0.5\n",
    "# RandRho = qutip.Qobj(tmp)\n",
    "# # Mixed states\n",
    "# MixRho = (qutip.ket2dm(AFRho)+qutip.ket2dm(PSRho))/2.0\n",
    "\n",
    "# States={'AFRho':AFRho,'PSRho':PSRho,'RandRho':RandRho,'MixRho':MixRho}\n",
    "# Keys=['AFRho','PSRho','RandRho','MixRho']"
   ]
  },
  {
   "cell_type": "code",
   "execution_count": 28,
   "metadata": {
    "collapsed": true
   },
   "outputs": [],
   "source": [
    "def generHa(index):\n",
    "    disoHa=np.zeros((dim,dim))\n",
    "    b = np.random.normal(0,1,len(initialstate))\n",
    "    for i in range(dim):\n",
    "        a=np.array(list(index[i]),dtype='int16')\n",
    "        disoHa[i][i]=np.sum(-b*((-1)**a))\n",
    "    return disoHa\n",
    "\n",
    "def run(t,eta,inistate):\n",
    "    tmps=qutip.mesolve(Hamiltonian+generHa(index),inistate,[0,t],[])\n",
    "    for i in range(eta-1):\n",
    "        tmps=qutip.mesolve(Hamiltonian+generHa(index),tmps.states[1],[0,t],[])\n",
    "    return [qutip.expect(qutip.ket2dm(qutip.basis(dim,i)),tmps.states[1]) for i in range(dim)]\n",
    "\n",
    "def genPurierror(test,initialstate,NU=500):\n",
    "    if qutip.isket(initialstate):\n",
    "        pur = (qutip.ket2dm(initialstate)*qutip.ket2dm(initialstate)).tr()\n",
    "    elif qutip.isoper(initialstate):\n",
    "        pur = (initialstate*initialstate).tr()\n",
    "    else:\n",
    "        print 'Wrong State form'\n",
    "    test=np.array(test)\n",
    "    average1 = np.sum(test,axis=0)/NU \n",
    "    average2 = np.sum(test*test,axis=0)/NU\n",
    "    return np.average(average2*dim*(dim+1)-(average1*dim)**2-pur)\n",
    "\n",
    "def gen_vag_er(t,eta,times,inistate,NU=500):\n",
    "    error=[]\n",
    "    for j in range(times):\n",
    "        test=[]\n",
    "        for i in range(NU):\n",
    "            Pe=run(t,eta,inistate)\n",
    "            test.append(Pe)\n",
    "        error.append(genPurierror(test,inistate,NU))\n",
    "    return np.average(np.abs(error))"
   ]
  },
  {
   "cell_type": "code",
   "execution_count": 6,
   "metadata": {},
   "outputs": [
    {
     "name": "stdout",
     "output_type": "stream",
     "text": [
      "{8: {}, 2: {}, 4: {}, 10: {}, 6: {}}\n"
     ]
    }
   ],
   "source": [
    "# Eretalen={}\n",
    "# for i in stateslen:\n",
    "#     Eretalen[i]={}\n",
    "\n",
    "# print Eretalen"
   ]
  },
  {
   "cell_type": "code",
   "execution_count": 29,
   "metadata": {},
   "outputs": [
    {
     "name": "stdout",
     "output_type": "stream",
     "text": [
      "1:  3.28491300128\n",
      "679.25271 s\n",
      "5:  0.334479845877\n",
      "899.947372 s\n",
      "15:  0.00550808644161\n",
      "1434.8744 s\n",
      "25:  0.00527321099472\n",
      "1965.369101 s\n",
      "40:  0.00405461257645\n",
      "2766.236601 s\n",
      "70:  0.0057851003079\n",
      "4372.600466 s\n",
      "__________________________________________________\n",
      "Total time:  12118.281948 s\n",
      "{8: {'12': 0.014152834135212251, '20': 0.013717662433642308, '32': 0.0072804568046989466, '56': 0.010511613269219202, '1': 1.3822358431433959, '4': 0.29828778647840148}, 2: {'1': 0.016664714653283619, '10': 0.016112604919861051, '16': 0.01393440655108304, '2': 0.0734163622628696, '6': 0.022807566236699682}, 4: {'10': 0.016926602441749629, '20': 0.024822726622543423, '32': 0.023428088599171493, '1': 0.036721913898880847, '2': 0.018693952507221591, '6': 0.029299361950051374}, 10: {'25': 0.0052732109947170643, '15': 0.0055080864416118007, '40': 0.004054612576447513, '1': 3.2849130012822649, '5': 0.33447984587708812, '70': 0.0057851003078950728}, 6: {'24': 0.018097344762072552, '15': 0.010816737884543848, '42': 0.013297574599778404, '1': 0.25428322059195108, '3': 0.18043403860056983, '9': 0.02408196686448837}}\n"
     ]
    }
   ],
   "source": [
    "start=time.clock()\n",
    "start0=start\n",
    "\n",
    "for eta in [1,5,15,25,40,70]:\n",
    "    Eretalen[sty][str(eta)]=gen_vag_er(1,eta,10,AFRho,NU=500)\n",
    "    print str(eta)+': ',Eretalen[sty][str(eta)]\n",
    "    print time.clock()-start,'s'\n",
    "    start=time.clock()\n",
    "print '_'*50\n",
    "    \n",
    "print 'Total time: ',time.clock()-start0,'s'\n",
    "print Eretalen"
   ]
  },
  {
   "cell_type": "code",
   "execution_count": 54,
   "metadata": {},
   "outputs": [
    {
     "name": "stdout",
     "output_type": "stream",
     "text": [
      "{8: {'28': 0.007802683776780654, '12': 0.1284862672835323, '20': 0.025107515434219768, '4': 1.0112695336415807, '40': 0.0072849918495225523}, 2: {'10': 0.021505690249683879, '20': 0.011279031310286796, '1': 0.30882074435244533, '3': 0.04661535629225759, '5': 0.064803741134634357, '15': 0.017956245829292367}, 4: {'10': 0.010842259917152226, '2': 0.28574836852555768, '28': 0.030085525958305388, '14': 0.012356736390313658, '6': 0.017195182252570215}, 10: {'10': 0.48911124195610478, '20': 0.06771224974020533, '40': 0.0053026294953989377, '60': 0.0040583895140149564, '3': 2.9353644986931213, '5': 1.7048763813848655, '80': 0.0035663968296958367}, 6: {'9': 0.057146525251691463, '42': 0.014525487168670947, '3': 0.35613633845577808, '15': 0.017065207375401167, '21': 0.021151483723703731}}\n"
     ]
    }
   ],
   "source": [
    "print Eretalen"
   ]
  },
  {
   "cell_type": "code",
   "execution_count": 32,
   "metadata": {},
   "outputs": [
    {
     "data": {
      "image/png": "[encoded data removed]",
      "text/plain": [
       "<matplotlib.figure.Figure at 0x7fbfb7e94b10>"
      ]
     },
     "metadata": {},
     "output_type": "display_data"
    }
   ],
   "source": [
    "timeli = np.sort(np.array(Eretalen[stateslen[0]].keys(),dtype='int'))\n",
    "plt.plot(1.0*timeli/stateslen[0],[Eretalen[stateslen[0]][str(i)] for i in timeli],'bo-')\n",
    "timeli = np.sort(np.array(Eretalen[stateslen[1]].keys(),dtype='int'))\n",
    "plt.plot(1.0*timeli/stateslen[1],[Eretalen[stateslen[1]][str(i)] for i in timeli],'o-',color='orange')\n",
    "timeli = np.sort(np.array(Eretalen[stateslen[2]].keys(),dtype='int'))\n",
    "plt.plot(1.0*timeli/stateslen[2],[Eretalen[stateslen[2]][str(i)] for i in timeli],'ro-')\n",
    "timeli = np.sort(np.array(Eretalen[stateslen[3]].keys(),dtype='int'))\n",
    "plt.plot(1.0*timeli/stateslen[3],[Eretalen[stateslen[3]][str(i)] for i in timeli],'go-')\n",
    "timeli = np.sort(np.array(Eretalen[stateslen[4]].keys(),dtype='int'))\n",
    "plt.plot(1.0*timeli/stateslen[4],[Eretalen[stateslen[4]][str(i)] for i in timeli],'yo-')\n",
    "plt.yscale('log')\n",
    "plt.xlabel(r'$JT_{tot}/L$',fontsize=13)\n",
    "plt.ylabel(r'$|(p_2)_e-p_2|$',fontsize=13)\n",
    "plt.text(6.5,3,r'$L$')\n",
    "plt.xlim(0,8)\n",
    "plt.ylim(0.003,12)\n",
    "plt.legend(stateslen)\n",
    "plt.savefig('differentlength.pdf',format='pdf',orientation='portrait',papertype='executive')"
   ]
  },
  {
   "cell_type": "code",
   "execution_count": 33,
   "metadata": {},
   "outputs": [
    {
     "data": {
      "text/html": [
       "<div>\n",
       "<table border=\"1\" class=\"dataframe\">\n",
       "  <thead>\n",
       "    <tr style=\"text-align: right;\">\n",
       "      <th></th>\n",
       "      <th>2</th>\n",
       "      <th>4</th>\n",
       "      <th>6</th>\n",
       "      <th>8</th>\n",
       "      <th>10</th>\n",
       "    </tr>\n",
       "  </thead>\n",
       "  <tbody>\n",
       "    <tr>\n",
       "      <th>16</th>\n",
       "      <td>0.013934</td>\n",
       "      <td>NaN</td>\n",
       "      <td>NaN</td>\n",
       "      <td>NaN</td>\n",
       "      <td>NaN</td>\n",
       "    </tr>\n",
       "    <tr>\n",
       "      <th>10</th>\n",
       "      <td>0.016113</td>\n",
       "      <td>0.016927</td>\n",
       "      <td>NaN</td>\n",
       "      <td>NaN</td>\n",
       "      <td>NaN</td>\n",
       "    </tr>\n",
       "    <tr>\n",
       "      <th>1</th>\n",
       "      <td>0.016665</td>\n",
       "      <td>0.036722</td>\n",
       "      <td>0.254283</td>\n",
       "      <td>1.382236</td>\n",
       "      <td>3.284913</td>\n",
       "    </tr>\n",
       "    <tr>\n",
       "      <th>6</th>\n",
       "      <td>0.022808</td>\n",
       "      <td>0.029299</td>\n",
       "      <td>NaN</td>\n",
       "      <td>NaN</td>\n",
       "      <td>NaN</td>\n",
       "    </tr>\n",
       "    <tr>\n",
       "      <th>2</th>\n",
       "      <td>0.073416</td>\n",
       "      <td>0.018694</td>\n",
       "      <td>NaN</td>\n",
       "      <td>NaN</td>\n",
       "      <td>NaN</td>\n",
       "    </tr>\n",
       "    <tr>\n",
       "      <th>40</th>\n",
       "      <td>NaN</td>\n",
       "      <td>NaN</td>\n",
       "      <td>NaN</td>\n",
       "      <td>NaN</td>\n",
       "      <td>0.004055</td>\n",
       "    </tr>\n",
       "    <tr>\n",
       "      <th>25</th>\n",
       "      <td>NaN</td>\n",
       "      <td>NaN</td>\n",
       "      <td>NaN</td>\n",
       "      <td>NaN</td>\n",
       "      <td>0.005273</td>\n",
       "    </tr>\n",
       "    <tr>\n",
       "      <th>15</th>\n",
       "      <td>NaN</td>\n",
       "      <td>NaN</td>\n",
       "      <td>0.010817</td>\n",
       "      <td>NaN</td>\n",
       "      <td>0.005508</td>\n",
       "    </tr>\n",
       "    <tr>\n",
       "      <th>70</th>\n",
       "      <td>NaN</td>\n",
       "      <td>NaN</td>\n",
       "      <td>NaN</td>\n",
       "      <td>NaN</td>\n",
       "      <td>0.005785</td>\n",
       "    </tr>\n",
       "    <tr>\n",
       "      <th>5</th>\n",
       "      <td>NaN</td>\n",
       "      <td>NaN</td>\n",
       "      <td>NaN</td>\n",
       "      <td>NaN</td>\n",
       "      <td>0.334480</td>\n",
       "    </tr>\n",
       "    <tr>\n",
       "      <th>12</th>\n",
       "      <td>NaN</td>\n",
       "      <td>NaN</td>\n",
       "      <td>NaN</td>\n",
       "      <td>0.014153</td>\n",
       "      <td>NaN</td>\n",
       "    </tr>\n",
       "    <tr>\n",
       "      <th>20</th>\n",
       "      <td>NaN</td>\n",
       "      <td>0.024823</td>\n",
       "      <td>NaN</td>\n",
       "      <td>0.013718</td>\n",
       "      <td>NaN</td>\n",
       "    </tr>\n",
       "    <tr>\n",
       "      <th>24</th>\n",
       "      <td>NaN</td>\n",
       "      <td>NaN</td>\n",
       "      <td>0.018097</td>\n",
       "      <td>NaN</td>\n",
       "      <td>NaN</td>\n",
       "    </tr>\n",
       "    <tr>\n",
       "      <th>3</th>\n",
       "      <td>NaN</td>\n",
       "      <td>NaN</td>\n",
       "      <td>0.180434</td>\n",
       "      <td>NaN</td>\n",
       "      <td>NaN</td>\n",
       "    </tr>\n",
       "    <tr>\n",
       "      <th>32</th>\n",
       "      <td>NaN</td>\n",
       "      <td>0.023428</td>\n",
       "      <td>NaN</td>\n",
       "      <td>0.007280</td>\n",
       "      <td>NaN</td>\n",
       "    </tr>\n",
       "    <tr>\n",
       "      <th>4</th>\n",
       "      <td>NaN</td>\n",
       "      <td>NaN</td>\n",
       "      <td>NaN</td>\n",
       "      <td>0.298288</td>\n",
       "      <td>NaN</td>\n",
       "    </tr>\n",
       "    <tr>\n",
       "      <th>42</th>\n",
       "      <td>NaN</td>\n",
       "      <td>NaN</td>\n",
       "      <td>0.013298</td>\n",
       "      <td>NaN</td>\n",
       "      <td>NaN</td>\n",
       "    </tr>\n",
       "    <tr>\n",
       "      <th>56</th>\n",
       "      <td>NaN</td>\n",
       "      <td>NaN</td>\n",
       "      <td>NaN</td>\n",
       "      <td>0.010512</td>\n",
       "      <td>NaN</td>\n",
       "    </tr>\n",
       "    <tr>\n",
       "      <th>9</th>\n",
       "      <td>NaN</td>\n",
       "      <td>NaN</td>\n",
       "      <td>0.024082</td>\n",
       "      <td>NaN</td>\n",
       "      <td>NaN</td>\n",
       "    </tr>\n",
       "  </tbody>\n",
       "</table>\n",
       "</div>"
      ],
      "text/plain": [
       "          2         4         6         8         10\n",
       "16  0.013934       NaN       NaN       NaN       NaN\n",
       "10  0.016113  0.016927       NaN       NaN       NaN\n",
       "1   0.016665  0.036722  0.254283  1.382236  3.284913\n",
       "6   0.022808  0.029299       NaN       NaN       NaN\n",
       "2   0.073416  0.018694       NaN       NaN       NaN\n",
       "40       NaN       NaN       NaN       NaN  0.004055\n",
       "25       NaN       NaN       NaN       NaN  0.005273\n",
       "15       NaN       NaN  0.010817       NaN  0.005508\n",
       "70       NaN       NaN       NaN       NaN  0.005785\n",
       "5        NaN       NaN       NaN       NaN  0.334480\n",
       "12       NaN       NaN       NaN  0.014153       NaN\n",
       "20       NaN  0.024823       NaN  0.013718       NaN\n",
       "24       NaN       NaN  0.018097       NaN       NaN\n",
       "3        NaN       NaN  0.180434       NaN       NaN\n",
       "32       NaN  0.023428       NaN  0.007280       NaN\n",
       "4        NaN       NaN       NaN  0.298288       NaN\n",
       "42       NaN       NaN  0.013298       NaN       NaN\n",
       "56       NaN       NaN       NaN  0.010512       NaN\n",
       "9        NaN       NaN  0.024082       NaN       NaN"
      ]
     },
     "execution_count": 33,
     "metadata": {},
     "output_type": "execute_result"
    }
   ],
   "source": [
    "df=pd.DataFrame(Eretalen)\n",
    "df.to_csv('differentlength.csv')\n",
    "df.sort_values(by=[2,10])"
   ]
  },
  {
   "cell_type": "code",
   "execution_count": null,
   "metadata": {
    "collapsed": true
   },
   "outputs": [],
   "source": []
  }
 ],
 "metadata": {
  "kernelspec": {
   "display_name": "Python 2",
   "language": "python",
   "name": "python2"
  },
  "language_info": {
   "codemirror_mode": {
    "name": "ipython",
    "version": 2
   },
   "file_extension": ".py",
   "mimetype": "text/x-python",
   "name": "python",
   "nbconvert_exporter": "python",
   "pygments_lexer": "ipython2",
   "version": "2.7.13"
  }
 },
 "nbformat": 4,
 "nbformat_minor": 2
}
