{
 "cells": [
  {
   "cell_type": "code",
   "execution_count": 2,
   "metadata": {
    "collapsed": true
   },
   "outputs": [],
   "source": [
    "import numpy as np\n",
    "from scipy.special import comb, perm\n",
    "from itertools import permutations,accumulate\n",
    "import matplotlib.pyplot as plt\n",
    "import random\n",
    "from multiprocessing import Pool\n",
    "%matplotlib inline"
   ]
  },
  {
   "cell_type": "code",
   "execution_count": 148,
   "metadata": {},
   "outputs": [
    {
     "name": "stdout",
     "output_type": "stream",
     "text": [
      "[ 252    0    0 ...,    0    0 -252]\n",
      "CPU times: user 22.6 s, sys: 3.64 s, total: 26.3 s\n",
      "Wall time: 32 s\n"
     ]
    }
   ],
   "source": [
    "%%time\n",
    "\n",
    "N=12\n",
    "state1=[[1,1]]*int(N/2)\n",
    "# print(state1)\n",
    "state2=[[1,-1]]*int(N/2)\n",
    "state2.extend(state1)\n",
    "\n",
    "def dirproduct(s):\n",
    "    p=1\n",
    "    for state in s:\n",
    "        p=np.kron(p,state)\n",
    "    return p\n",
    "\n",
    "\n",
    "me=np.unique(list(permutations(state2)),axis=0)\n",
    "finalstate=0\n",
    "for s in me:\n",
    "    p=1\n",
    "    for state in s:\n",
    "        p=np.kron(p,state)\n",
    "    finalstate+=p\n",
    "print(finalstate)\n",
    "\n",
    "\n",
    "# operator=np.array([[1,1],[1,-1]])\n",
    "# whoper=1\n",
    "# for i in range(N):\n",
    "#     whoper=np.kron(whoper,operator)\n",
    "\n",
    "# transferstate=np.dot(whoper,finalstate)\n",
    "# transferstatepro=transferstate**2/sum(transferstate**2)\n",
    "finalstatepro=finalstate**2/np.sum(finalstate**2)"
   ]
  },
  {
   "cell_type": "code",
   "execution_count": null,
   "metadata": {
    "collapsed": true
   },
   "outputs": [],
   "source": [
    "%%time\n",
    "#result=[]\n",
    "\n",
    "N=12\n",
    "state1=[[1,1]]*int(N/2)\n",
    "# print(state1)\n",
    "state2=[[1,-1]]*int(N/2)\n",
    "state2.extend(state1)\n",
    "me=np.unique(list(permutations(state2)),axis=0)\n",
    "\n",
    "def dirproduct(s):\n",
    "    p=1\n",
    "    for state in s:\n",
    "        p=np.kron(p,state)\n",
    "    return p\n",
    "\n",
    "pool = Pool(processes=10)\n",
    "\n",
    "res = pool.map(dirproduct, me)\n",
    "\n",
    "finalstate=0\n",
    "for s1 in res:\n",
    "    finalstate+=s1\n",
    "\n",
    "print(finalstate)\n",
    "finalstatepro=finalstate**2/np.sum(finalstate**2)"
   ]
  },
  {
   "cell_type": "code",
   "execution_count": 166,
   "metadata": {},
   "outputs": [
    {
     "name": "stdout",
     "output_type": "stream",
     "text": [
      "[-6. -5. -4. -3. -2. -1.  0.  1.  2.  3.  4.  5.  6.]\n"
     ]
    },
    {
     "ename": "IndexError",
     "evalue": "boolean index did not match indexed array along dimension 0; dimension is 1024 but corresponding boolean dimension is 4096",
     "output_type": "error",
     "traceback": [
      "\u001b[0;31m---------------------------------------------------------------------------\u001b[0m",
      "\u001b[0;31mIndexError\u001b[0m                                Traceback (most recent call last)",
      "\u001b[0;32m<timed exec>\u001b[0m in \u001b[0;36m<module>\u001b[0;34m()\u001b[0m\n",
      "\u001b[0;31mIndexError\u001b[0m: boolean index did not match indexed array along dimension 0; dimension is 1024 but corresponding boolean dimension is 4096"
     ]
    }
   ],
   "source": [
    "%%time\n",
    "st=[]\n",
    "for i in range(2**N):\n",
    "    t=np.array(list(str(bin(2**N-1-i))[2:]),dtype='int')\n",
    "    st.append(np.sum(t)-N/2)\n",
    "\n",
    "stuni=np.unique(st)\n",
    "print(stuni)\n",
    "prop=[]\n",
    "for Jz in stuni:\n",
    "    prop.append(np.sum(finalstatepro[st==Jz]))\n",
    "\n",
    "print(prop)\n",
    "plt.grid(True)\n",
    "plt.scatter(stuni,prop)"
   ]
  },
  {
   "cell_type": "code",
   "execution_count": 136,
   "metadata": {},
   "outputs": [
    {
     "data": {
      "text/plain": [
       "(array([ 12275.,      0.,   6799.,      0.,   6000.,      0.,   5948.,\n",
       "             0.,   6871.,      0.,  12107.]),\n",
       " array([-5.5, -4.5, -3.5, -2.5, -1.5, -0.5,  0.5,  1.5,  2.5,  3.5,  4.5,\n",
       "         5.5]),\n",
       " <a list of 11 Patch objects>)"
      ]
     },
     "execution_count": 136,
     "metadata": {},
     "output_type": "execute_result"
    },
    {
     "data": {
      "image/png": "[encoded data removed]",
      "text/plain": [
       "<Figure size 432x288 with 1 Axes>"
      ]
     },
     "metadata": {},
     "output_type": "display_data"
    }
   ],
   "source": [
    "class WeightedRandomGenerator(object):\n",
    "    def __init__(self, weights):\n",
    "        self.totals = list(accumulate(weights))\n",
    "\n",
    "    def next(self):\n",
    "        rnd = random.random() * self.totals[-1]\n",
    "        ty=bisect.bisect_right(self.totals, rnd)\n",
    "        return ty\n",
    "\n",
    "    def __call__(self):\n",
    "        return self.next()\n",
    "\n",
    "samplelist=[]    \n",
    "s=WeightedRandomGenerator(prop)\n",
    "for i in range(50000):\n",
    "    tmp=int(s.next())\n",
    "    samplelist.append(stuni[tmp])\n",
    " \n",
    "plt.hist(samplelist,bins=np.linspace(-5.5,5.5,12))"
   ]
  },
  {
   "cell_type": "code",
   "execution_count": 146,
   "metadata": {},
   "outputs": [
    {
     "data": {
      "text/plain": [
       "-12.42347966220391"
      ]
     },
     "execution_count": 146,
     "metadata": {},
     "output_type": "execute_result"
    }
   ],
   "source": [
    "from multiprocessing import Pool\n",
    "def test(p):     \n",
    "    return p\n",
    "if __name__==\"__main__\":\n",
    "    pool = Pool(processes=10)\n",
    "    result=[]\n",
    "    for i  in xrange(50000):\n",
    "       '''\n",
    "       for循环执行流程：\n",
    "       （1）添加子进程到pool，并将这个对象（子进程）添加到result这个列表中。（此时子进程并没有运行）\n",
    "       （2）执行子进程（同时执行10个）\n",
    "       '''\n",
    "       result.append(pool.apply_async(test, args=(i,)))#维持执行的进程总数为10，当一个进程执行完后添加新进程.       \n",
    "    pool.join()\n",
    "    '''\n",
    "    遍历result列表，取出子进程对象，访问get()方法，获取返回值。（此时所有子进程已执行完毕）\n",
    "    '''\n",
    "    for i in result:\n",
    "        print i.get()"
   ]
  },
  {
   "cell_type": "code",
   "execution_count": 160,
   "metadata": {},
   "outputs": [
    {
     "name": "stdout",
     "output_type": "stream",
     "text": [
      "Help on Pool in module multiprocessing.pool object:\n",
      "\n",
      "class Pool(builtins.object)\n",
      " |  Class which supports an async version of applying functions to arguments.\n",
      " |  \n",
      " |  Methods defined here:\n",
      " |  \n",
      " |  Process(self, *args, **kwds)\n",
      " |  \n",
      " |  __enter__(self)\n",
      " |  \n",
      " |  __exit__(self, exc_type, exc_val, exc_tb)\n",
      " |  \n",
      " |  __init__(self, processes=None, initializer=None, initargs=(), maxtasksperchild=None, context=None)\n",
      " |      Initialize self.  See help(type(self)) for accurate signature.\n",
      " |  \n",
      " |  __reduce__(self)\n",
      " |      helper for pickle\n",
      " |  \n",
      " |  apply(self, func, args=(), kwds={})\n",
      " |      Equivalent of `func(*args, **kwds)`.\n",
      " |  \n",
      " |  apply_async(self, func, args=(), kwds={}, callback=None, error_callback=None)\n",
      " |      Asynchronous version of `apply()` method.\n",
      " |  \n",
      " |  close(self)\n",
      " |  \n",
      " |  imap(self, func, iterable, chunksize=1)\n",
      " |      Equivalent of `map()` -- can be MUCH slower than `Pool.map()`.\n",
      " |  \n",
      " |  imap_unordered(self, func, iterable, chunksize=1)\n",
      " |      Like `imap()` method but ordering of results is arbitrary.\n",
      " |  \n",
      " |  join(self)\n",
      " |  \n",
      " |  map(self, func, iterable, chunksize=None)\n",
      " |      Apply `func` to each element in `iterable`, collecting the results\n",
      " |      in a list that is returned.\n",
      " |  \n",
      " |  map_async(self, func, iterable, chunksize=None, callback=None, error_callback=None)\n",
      " |      Asynchronous version of `map()` method.\n",
      " |  \n",
      " |  starmap(self, func, iterable, chunksize=None)\n",
      " |      Like `map()` method but the elements of the `iterable` are expected to\n",
      " |      be iterables as well and will be unpacked as arguments. Hence\n",
      " |      `func` and (a, b) becomes func(a, b).\n",
      " |  \n",
      " |  starmap_async(self, func, iterable, chunksize=None, callback=None, error_callback=None)\n",
      " |      Asynchronous version of `starmap()` method.\n",
      " |  \n",
      " |  terminate(self)\n",
      " |  \n",
      " |  ----------------------------------------------------------------------\n",
      " |  Data descriptors defined here:\n",
      " |  \n",
      " |  __dict__\n",
      " |      dictionary for instance variables (if defined)\n",
      " |  \n",
      " |  __weakref__\n",
      " |      list of weak references to the object (if defined)\n",
      "\n"
     ]
    }
   ],
   "source": [
    "help(pool)"
   ]
  },
  {
   "cell_type": "code",
   "execution_count": null,
   "metadata": {
    "collapsed": true
   },
   "outputs": [],
   "source": [
    "N=10\n",
    "state1=[[1,1]]*int(N/2)\n",
    "    # print(state1)\n",
    "state2=[[1,-1]]*int(N/2)\n",
    "state2.extend(state1)\n",
    "me=np.unique(list(permutations(state2)),axis=0)\n",
    "\n",
    "pool = Pool(processes=10)\n",
    "res = pool.map(dirproduct, me)\n",
    "finalstate=0\n",
    "for s1 in res:\n",
    "    finalstate+=s1\n",
    "\n",
    "print(finalstate)\n",
    "finalstatepro=finalstate**2/np.sum(finalstate**2)\n",
    "\n",
    "st=[]\n",
    "for i in range(2**N):\n",
    "    t=np.array(list(str(bin(2**N-1-i))[2:]),dtype='int')\n",
    "    st.append(np.sum(t)-N/2)\n",
    "\n",
    "print(np.unique(st))\n",
    "stuni=np.unique(st)\n",
    "\n",
    "prop=[]\n",
    "for Jz in stuni:\n",
    "    prop.append(np.sum(finalstatepro[st==Jz]))\n",
    "\n",
    "print(prop)\n",
    "\n",
    "plt.scatter(stuni,prop)\n",
    "plt.show()"
   ]
  }
 ],
 "metadata": {
  "anaconda-cloud": {},
  "kernelspec": {
   "display_name": "Python [python3]",
   "language": "python",
   "name": "Python [python3]"
  },
  "language_info": {
   "codemirror_mode": {
    "name": "ipython",
    "version": 3
   },
   "file_extension": ".py",
   "mimetype": "text/x-python",
   "name": "python",
   "nbconvert_exporter": "python",
   "pygments_lexer": "ipython3",
   "version": "3.6.5"
  }
 },
 "nbformat": 4,
 "nbformat_minor": 1
}
