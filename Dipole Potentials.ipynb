{
 "cells": [
  {
   "cell_type": "code",
   "execution_count": 1,
   "metadata": {},
   "outputs": [],
   "source": [
    "import seaborn as sns\n",
    "import numpy as np\n",
    "import matplotlib.pyplot as plt\n",
    "import scipy.constants as cnst\n",
    "from mpl_toolkits.mplot3d import Axes3D\n",
    "from matplotlib import cm\n",
    "from matplotlib.ticker import LinearLocator, FormatStrFormatter\n",
    "from jupyterthemes import jtplot\n",
    "jtplot.style(theme='onedork',ticks=True, grid=False, figsize=(6, 4.5),context='talk', fscale=1.4, spines=False, gridlines='--')\n",
    "%matplotlib inline\n",
    "hbar= cnst.hbar\n",
    "#hbar=1.054571596*10**-34      #reduced Planck's constant,J/s\n",
    "kB=cnst.Boltzmann\n",
    "#kB=1.3806503*10**-23        #Boltzmann's constant, J/K\n",
    "Gamma=2*np.pi*6.065*10**6     #damping rate, Hz\n",
    "omega0=2*np.pi*384.2304844685*10**12    #resonant frequency,Hz\n",
    "c=cnst.c\n",
    "#c=2.99792458*10**8         #speed of light\n",
    "m=1.44316060*10**-25        #atomic mass of Rb87, kg\n",
    "Er=2*hbar**2*np.pi**2/m/(1064*10**-9)**2    #recoil energy\n",
    "\n",
    "eta0=377   # characteristic impedance of vaccun\n"
   ]
  },
  {
   "cell_type": "code",
   "execution_count": 2,
   "metadata": {
    "collapsed": true
   },
   "outputs": [],
   "source": [
    "def Vdip(radial,axial,Power,waist,Lambda):\n",
    "    #Power: power of the laser beam, W\n",
    "    #waist: waist of the laser beam, um\n",
    "    #r: radial axis, um\n",
    "    #z: axial axis, um\n",
    "    # Lambda: wavelength of the laser, nm\n",
    "    \n",
    "    w0=waist*10**-6\n",
    "    r=radial*10**-6\n",
    "    z=axial*10**-6\n",
    "    lbd=Lambda*10**-9\n",
    "#Gaussian beam\n",
    "    zR=np.pi*w0**2/lbd\n",
    "    wz=w0*np.sqrt(1+(z/zR)**2)\n",
    "    Irz=2*Power/np.pi/wz**2*np.e**(-2*r**2/wz**2)\n",
    "#saturated intensity\n",
    "    \n",
    "    Isat=hbar*Gamma*omega0**3/12/np.pi/c**2\n",
    "#for detunings larger than excited states hyperfine splitting, viz ~100 MHz\n",
    "#V=pi*c**2*Gamma/2/omega0**3*((2+P*gF*mF)/delta2F+(2-P*gF*mF)/delta1F)*I(r)\n",
    "    delta=2*np.pi*c/lbd-omega0\n",
    "#for detuning larger than fine structrue ,viz ~10nm. linear polarization\n",
    "    V=hbar*Gamma**2/8/delta*Irz/Isat/Er\n",
    "\n",
    "\n",
    "    return V\n",
    "\n"
   ]
  },
  {
   "cell_type": "code",
   "execution_count": 3,
   "metadata": {},
   "outputs": [
    {
     "data": {
      "text/plain": [
       "[<matplotlib.lines.Line2D at 0x11a280d30>]"
      ]
     },
     "execution_count": 3,
     "metadata": {},
     "output_type": "execute_result"
    },
    {
     "data": {
      "image/png": "[encoded data removed]",
      "text/plain": [
       "<matplotlib.figure.Figure at 0x11a280cf8>"
      ]
     },
     "metadata": {},
     "output_type": "display_data"
    }
   ],
   "source": [
    "rlist=np.linspace(-100.0,100.0,50)\n",
    "#zlist=np.linspace(-1000.0,1000.0,200)\n",
    "Vlistr=Vdip(rlist,0.,10.0,100.0,1064.)\n",
    "#Vlistz=Vdip(10.,100.,0,zlist,1064.)\n",
    "#plt.figure(facecolor='w')\n",
    "plt.grid(True)\n",
    "plt.plot(rlist,Vlistr,'o',markeredgecolor='r',markerfacecolor='y',\n",
    "         markersize=8,linewidth=10)\n",
    "#plt.show()\n",
    "#plt.plot(zlist,Vlistz)\n",
    "#Vdip(10,100,0,0,532)\n"
   ]
  },
  {
   "cell_type": "code",
   "execution_count": 4,
   "metadata": {},
   "outputs": [
    {
     "data": {
      "text/plain": [
       "-844.1016745010412"
      ]
     },
     "execution_count": 4,
     "metadata": {},
     "output_type": "execute_result"
    }
   ],
   "source": [
    "Vdip(0.,0.001,10.,100.,1064.)"
   ]
  },
  {
   "cell_type": "code",
   "execution_count": 5,
   "metadata": {
    "collapsed": true
   },
   "outputs": [],
   "source": [
    "def Vlatt(radial,axial,time,theta,Power,waist,Lambda,attenuation,misalign):\n",
    "  #Power: power of the laser beam, W\n",
    "    #waist: waist of the laser beam, um\n",
    "    #r: radial axis, um\n",
    "    #z: axial axis, um\n",
    "    # Lambda: wavelength of the laser, nm\n",
    "    \n",
    "    w0=waist*10**-6\n",
    "    r1=radial*10**-6\n",
    "    r2=(radial+misalign)*10**-6\n",
    "    z=axial*10**-6\n",
    "    #z2=axial*10**-6\n",
    "    lbd=Lambda*10**-9\n",
    "    k=2*np.pi/lbd*np.cos(theta)\n",
    "    t=time\n",
    "    omega=2*np.pi*c/lbd\n",
    "#Gaussian beam\n",
    "    zR=np.pi*w0**2/lbd\n",
    "    wz=w0*np.sqrt(1+(z/zR)**2)\n",
    "    Rz=z*(1+(zR/z)**2)\n",
    "    phiz=np.arctan(z/zR)\n",
    "    #zR=np.pi*w0**2/lbd\n",
    "    #wz2=w0*np.sqrt(1+(z2/zR)**2)\n",
    "    #Rz2=z2*(1+(zR/z2)**2)\n",
    "    #phiz2=np.arctan(z2/zR)\n",
    "#power and intensity\n",
    "    I0=2*Power/np.pi/w0**2\n",
    "    Ef0=np.sqrt(2*eta0*I0)\n",
    "    Eb0=np.sqrt(2*eta0*attenuation*I0)\n",
    "#forward beam\n",
    "    Eforrz=Ef0*w0/wz*np.e**(-r1**2/wz**2)*np.e**(-1j*(k*z+k*r1**2/2/Rz-phiz)+1j*omega*t)\n",
    "#Backward beam\n",
    "    Ebackrz=Eb0*w0/wz*np.e**(-r2**2/wz**2)*np.e**(1j*(k*z+k*r2**2/2/Rz-phiz)+1j*omega*t)\n",
    "#Standing wave\n",
    "    Erz=Eforrz+Ebackrz\n",
    "    Irz=np.real(Erz*np.conjugate(Erz)/2/eta0)\n",
    "                                            \n",
    "                                                \n",
    "#saturated intensity\n",
    "    \n",
    "    Isat=hbar*Gamma*omega0**3/12/np.pi/c**2\n",
    "#for detunings larger than excited states hyperfine splitting, viz ~100 MHz\n",
    "#V=pi*c**2*Gamma/2/omega0**3*((2+P*gF*mF)/delta2F+(2-P*gF*mF)/delta1F)*I(r)\n",
    "    delta=omega-omega0\n",
    "#for detuning larger than fine structrue ,viz ~10nm. linear polarization\n",
    "    V=hbar*Gamma**2/8/delta*Irz/Isat/Er\n",
    "\n",
    "    return V\n"
   ]
  },
  {
   "cell_type": "code",
   "execution_count": 3,
   "metadata": {},
   "outputs": [
    {
     "name": "stdout",
     "output_type": "stream",
     "text": [
      "Help on function real in module numpy.lib.type_check:\n",
      "\n",
      "real(val)\n",
      "    Return the real part of the complex argument.\n",
      "    \n",
      "    Parameters\n",
      "    ----------\n",
      "    val : array_like\n",
      "        Input array.\n",
      "    \n",
      "    Returns\n",
      "    -------\n",
      "    out : ndarray or scalar\n",
      "        The real component of the complex argument. If `val` is real, the type\n",
      "        of `val` is used for the output.  If `val` has complex elements, the\n",
      "        returned type is float.\n",
      "    \n",
      "    See Also\n",
      "    --------\n",
      "    real_if_close, imag, angle\n",
      "    \n",
      "    Examples\n",
      "    --------\n",
      "    >>> a = np.array([1+2j, 3+4j, 5+6j])\n",
      "    >>> a.real\n",
      "    array([ 1.,  3.,  5.])\n",
      "    >>> a.real = 9\n",
      "    >>> a\n",
      "    array([ 9.+2.j,  9.+4.j,  9.+6.j])\n",
      "    >>> a.real = np.array([9, 8, 7])\n",
      "    >>> a\n",
      "    array([ 9.+2.j,  8.+4.j,  7.+6.j])\n",
      "    >>> np.real(1 + 1j)\n",
      "    1.0\n",
      "\n"
     ]
    }
   ],
   "source": [
    "help(np.real)"
   ]
  },
  {
   "cell_type": "code",
   "execution_count": 6,
   "metadata": {},
   "outputs": [
    {
     "name": "stdout",
     "output_type": "stream",
     "text": [
      "33.753622017\n",
      "33.7508507118\n"
     ]
    },
    {
     "data": {
      "text/plain": [
       "1.0000821106779367"
      ]
     },
     "execution_count": 6,
     "metadata": {},
     "output_type": "execute_result"
    }
   ],
   "source": [
    "#Vlatt(0,0.001,10.,100.,1064.)\n",
    "\n",
    "##2D plot\n",
    "zlist=np.linspace(-1.,1.,100)\n",
    "Vlattlist1=Vlatt(0.,zlist,0.,1.,.1,100.,1064.,1.,0.)\n",
    "Vlattlist2=Vlatt(.0,zlist,0.,0.,.1,100.,1064.,1.,0.)\n",
    "\n",
    "plt.figure(facecolor='w')\n",
    "plt.grid(True)\n",
    "plt.plot(zlist,Vlattlist1,'-r',markeredgecolor=(0.5,0.5,0.5),markerfacecolor=(.1,.1,.9),\n",
    "         markersize=8,linewidth=2)\n",
    "\n",
    "print(max(Vlattlist1)-min(Vlattlist1))\n",
    "print(max(Vlattlist2)-min(Vlattlist2))\n",
    "#print(Vlattlist3[1])\n",
    "(max(Vlattlist1)-min(Vlattlist1))/(max(Vlattlist2)-min(Vlattlist2))\n",
    "\n",
    "\n"
   ]
  },
  {
   "cell_type": "code",
   "execution_count": 86,
   "metadata": {},
   "outputs": [
    {
     "data": {
      "text/plain": [
       "0.94339811320566036"
      ]
     },
     "execution_count": 86,
     "metadata": {},
     "output_type": "execute_result"
    }
   ],
   "source": [
    "#zlist.shape\n",
    "#Vlattlist3.shape\n",
    "np.sqrt(.89)"
   ]
  },
  {
   "cell_type": "code",
   "execution_count": 7,
   "metadata": {},
   "outputs": [
    {
     "data": {
      "text/plain": [
       "<matplotlib.colorbar.Colorbar at 0x129d8b1d0>"
      ]
     },
     "execution_count": 7,
     "metadata": {},
     "output_type": "execute_result"
    }
   ],
   "source": [
    "##3D plot\n",
    "\n",
    "zlist=np.linspace(-1,1,1000)\n",
    "tlist=np.linspace(0.,1.,1000)\n",
    "zlist,tlist=np.meshgrid(zlist,tlist)\n",
    "Vlattlist3=Vlatt(0.,zlist,0.,tlist,.1,100.,1064.,1.,0.)\n",
    "fig = plt.figure(facecolor='w')\n",
    "ax = fig.gca(projection='3d')\n",
    "\n",
    "surf = ax.plot_surface(zlist, tlist, Vlattlist3, cmap=cm.coolwarm,\n",
    "                       linewidth=0, antialiased=False)\n",
    "\n",
    "#ax.set_zlim(-1.01, 1.01)\n",
    "ax.zaxis.set_major_locator(LinearLocator(5))\n",
    "ax.zaxis.set_major_formatter(FormatStrFormatter('%.01f'))\n",
    "\n",
    "fig.colorbar(surf, shrink=0.5, aspect=10)\n",
    "#plt.show()\n",
    "\n",
    "#Axes3D.plot(zlist,tlist,Vlattlist3)\n",
    "\n",
    "\n"
   ]
  },
  {
   "cell_type": "code",
   "execution_count": null,
   "metadata": {
    "collapsed": true
   },
   "outputs": [],
   "source": []
  }
 ],
 "metadata": {
  "anaconda-cloud": {},
  "kernelspec": {
   "display_name": "Python 3",
   "language": "python",
   "name": "python3"
  },
  "language_info": {
   "codemirror_mode": {
    "name": "ipython",
    "version": 3
   },
   "file_extension": ".py",
   "mimetype": "text/x-python",
   "name": "python",
   "nbconvert_exporter": "python",
   "pygments_lexer": "ipython3",
   "version": "3.6.4"
  }
 },
 "nbformat": 4,
 "nbformat_minor": 2
}
